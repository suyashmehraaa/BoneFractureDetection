{
 "cells": [
  {
   "cell_type": "code",
   "execution_count": 1,
   "id": "9457f3d4",
   "metadata": {
    "_cell_guid": "b1076dfc-b9ad-4769-8c92-a6c4dae69d19",
    "_uuid": "8f2839f25d086af736a60e9eeb907d3b93b6e0e5",
    "execution": {
     "iopub.execute_input": "2024-04-21T07:36:41.308035Z",
     "iopub.status.busy": "2024-04-21T07:36:41.307210Z",
     "iopub.status.idle": "2024-04-21T07:36:52.161163Z",
     "shell.execute_reply": "2024-04-21T07:36:52.160207Z"
    },
    "papermill": {
     "duration": 10.870556,
     "end_time": "2024-04-21T07:36:52.163757",
     "exception": false,
     "start_time": "2024-04-21T07:36:41.293201",
     "status": "completed"
    },
    "tags": []
   },
   "outputs": [],
   "source": [
    "import numpy as np # linear algebra\n",
    "import pandas as pd # data processing, CSV file I/O (e.g. pd.read_csv)\n",
    "from fastai.vision.all import *\n",
    "import fastai\n",
    "import timm\n",
    "import torch.nn as nn\n",
    "from sklearn.neighbors import KNeighborsClassifier\n",
    "from sklearn.naive_bayes import GaussianNB\n",
    "from sklearn.metrics import accuracy_score, precision_score, recall_score\n",
    "import torch\n",
    "import torchvision\n",
    "from torchvision import transforms\n",
    "from torch.utils.data import DataLoader\n",
    "from sklearn.model_selection import train_test_split\n",
    "from sklearn.preprocessing import StandardScaler\n",
    "from sklearn.neighbors import KNeighborsClassifier\n",
    "from sklearn.naive_bayes import GaussianNB\n",
    "from sklearn.metrics import accuracy_score, precision_score, recall_score\n",
    "import os\n",
    "import glob\n",
    "#from torch.optim import Adam\n",
    "from torch.optim import SGD\n",
    "from torch.autograd import Variable\n",
    "import matplotlib.pyplot as plt\n",
    "from sklearn.metrics import confusion_matrix, ConfusionMatrixDisplay\n",
    "import torch.nn.functional as F\n",
    "import torchvision.transforms.functional as TF\n",
    "from PIL import Image"
   ]
  },
  {
   "cell_type": "code",
   "execution_count": 2,
   "id": "8a3b97cb",
   "metadata": {
    "execution": {
     "iopub.execute_input": "2024-04-21T07:36:52.188267Z",
     "iopub.status.busy": "2024-04-21T07:36:52.187958Z",
     "iopub.status.idle": "2024-04-21T07:36:52.192867Z",
     "shell.execute_reply": "2024-04-21T07:36:52.192071Z"
    },
    "papermill": {
     "duration": 0.019113,
     "end_time": "2024-04-21T07:36:52.194712",
     "exception": false,
     "start_time": "2024-04-21T07:36:52.175599",
     "status": "completed"
    },
    "tags": []
   },
   "outputs": [],
   "source": [
    "train_transformer = transforms.Compose([\n",
    "    transforms.Resize((150,150)),\n",
    "    transforms.ToTensor(), \n",
    "    ])\n",
    "\n",
    "test_transformer = transforms.Compose([\n",
    "    transforms.Resize((150,150)),\n",
    "    transforms.ToTensor(),\n",
    "    ])"
   ]
  },
  {
   "cell_type": "code",
   "execution_count": 3,
   "id": "c51593ca",
   "metadata": {
    "execution": {
     "iopub.execute_input": "2024-04-21T07:36:52.218242Z",
     "iopub.status.busy": "2024-04-21T07:36:52.217996Z",
     "iopub.status.idle": "2024-04-21T07:36:56.416873Z",
     "shell.execute_reply": "2024-04-21T07:36:56.415894Z"
    },
    "papermill": {
     "duration": 4.213523,
     "end_time": "2024-04-21T07:36:56.419526",
     "exception": false,
     "start_time": "2024-04-21T07:36:52.206003",
     "status": "completed"
    },
    "tags": []
   },
   "outputs": [],
   "source": [
    "train_path='/kaggle/input/bone-fracture-detection-using-xrays/archive (6)/train'\n",
    "test_path='/kaggle/input/bone-fracture-detection-using-xrays/archive (6)/val'\n",
    "\n",
    "train_loader=DataLoader(\n",
    "    torchvision.datasets.ImageFolder(train_path,transform=train_transformer),\n",
    "    batch_size=32, shuffle=True\n",
    ")\n",
    "\n",
    "test_loader=DataLoader(\n",
    "    torchvision.datasets.ImageFolder(test_path,transform=test_transformer),\n",
    "    batch_size=32, shuffle=True\n",
    ")"
   ]
  },
  {
   "cell_type": "markdown",
   "id": "44ae002b",
   "metadata": {
    "papermill": {
     "duration": 0.012275,
     "end_time": "2024-04-21T07:36:56.443906",
     "exception": false,
     "start_time": "2024-04-21T07:36:56.431631",
     "status": "completed"
    },
    "tags": []
   },
   "source": [
    "**Part 1:** Applying KNN and Naive Bayes Classifier to Images' Pixel Values"
   ]
  },
  {
   "cell_type": "code",
   "execution_count": 4,
   "id": "4d6c2918",
   "metadata": {
    "execution": {
     "iopub.execute_input": "2024-04-21T07:36:56.467945Z",
     "iopub.status.busy": "2024-04-21T07:36:56.467637Z",
     "iopub.status.idle": "2024-04-21T07:38:10.166863Z",
     "shell.execute_reply": "2024-04-21T07:38:10.165853Z"
    },
    "papermill": {
     "duration": 73.714172,
     "end_time": "2024-04-21T07:38:10.169442",
     "exception": false,
     "start_time": "2024-04-21T07:36:56.455270",
     "status": "completed"
    },
    "tags": []
   },
   "outputs": [],
   "source": [
    "#Extracting features and labels from data loaders\n",
    "x_train = torch.cat([batch[0].view(batch[0].size(0), -1) for batch in train_loader]).numpy()\n",
    "y_train = torch.cat([batch[1] for batch in train_loader]).numpy()\n",
    "x_test = torch.cat([batch[0].view(batch[0].size(0), -1) for batch in test_loader]).numpy()\n",
    "y_test = torch.cat([batch[1] for batch in test_loader]).numpy()"
   ]
  },
  {
   "cell_type": "code",
   "execution_count": 5,
   "id": "fe06da9a",
   "metadata": {
    "execution": {
     "iopub.execute_input": "2024-04-21T07:38:10.195236Z",
     "iopub.status.busy": "2024-04-21T07:38:10.194676Z",
     "iopub.status.idle": "2024-04-21T07:38:17.841890Z",
     "shell.execute_reply": "2024-04-21T07:38:17.840844Z"
    },
    "papermill": {
     "duration": 7.662326,
     "end_time": "2024-04-21T07:38:17.844268",
     "exception": false,
     "start_time": "2024-04-21T07:38:10.181942",
     "status": "completed"
    },
    "tags": []
   },
   "outputs": [],
   "source": [
    "#Feature scaling (necessary for KNN)\n",
    "scaler = StandardScaler()\n",
    "x_train_scaled = scaler.fit_transform(x_train)\n",
    "x_test_scaled = scaler.transform(x_test)"
   ]
  },
  {
   "cell_type": "code",
   "execution_count": 6,
   "id": "a1f81eea",
   "metadata": {
    "execution": {
     "iopub.execute_input": "2024-04-21T07:38:17.870987Z",
     "iopub.status.busy": "2024-04-21T07:38:17.869962Z",
     "iopub.status.idle": "2024-04-21T07:38:26.996338Z",
     "shell.execute_reply": "2024-04-21T07:38:26.995545Z"
    },
    "papermill": {
     "duration": 9.141923,
     "end_time": "2024-04-21T07:38:26.998590",
     "exception": false,
     "start_time": "2024-04-21T07:38:17.856667",
     "status": "completed"
    },
    "tags": []
   },
   "outputs": [],
   "source": [
    "# K-Nearest Neighbors (KNN)\n",
    "knn = KNeighborsClassifier(n_neighbors=5)\n",
    "knn.fit(x_train_scaled, y_train)\n",
    "knn_pred = knn.predict(x_test_scaled)"
   ]
  },
  {
   "cell_type": "code",
   "execution_count": 7,
   "id": "8fb32dfc",
   "metadata": {
    "execution": {
     "iopub.execute_input": "2024-04-21T07:38:27.024467Z",
     "iopub.status.busy": "2024-04-21T07:38:27.023742Z",
     "iopub.status.idle": "2024-04-21T07:38:27.035883Z",
     "shell.execute_reply": "2024-04-21T07:38:27.034746Z"
    },
    "papermill": {
     "duration": 0.027267,
     "end_time": "2024-04-21T07:38:27.037887",
     "exception": false,
     "start_time": "2024-04-21T07:38:27.010620",
     "status": "completed"
    },
    "tags": []
   },
   "outputs": [
    {
     "name": "stdout",
     "output_type": "stream",
     "text": [
      "KNN Accuracy: 0.5033333333333333\n",
      "KNN Precision: 0.5166964285714286\n",
      "KNN Recall: 0.5033333333333333\n"
     ]
    }
   ],
   "source": [
    "#Calculating metrics for KNN\n",
    "knn_accuracy = accuracy_score(y_test, knn_pred)\n",
    "knn_precision = precision_score(y_test, knn_pred, average='weighted')\n",
    "knn_recall = recall_score(y_test, knn_pred, average='weighted')\n",
    "\n",
    "print(\"KNN Accuracy:\", knn_accuracy)\n",
    "print(\"KNN Precision:\", knn_precision)\n",
    "print(\"KNN Recall:\", knn_recall)"
   ]
  },
  {
   "cell_type": "code",
   "execution_count": 8,
   "id": "66963e27",
   "metadata": {
    "execution": {
     "iopub.execute_input": "2024-04-21T07:38:27.063903Z",
     "iopub.status.busy": "2024-04-21T07:38:27.063375Z",
     "iopub.status.idle": "2024-04-21T07:38:31.442124Z",
     "shell.execute_reply": "2024-04-21T07:38:31.441322Z"
    },
    "papermill": {
     "duration": 4.394215,
     "end_time": "2024-04-21T07:38:31.444508",
     "exception": false,
     "start_time": "2024-04-21T07:38:27.050293",
     "status": "completed"
    },
    "tags": []
   },
   "outputs": [],
   "source": [
    "# Naive Bayes\n",
    "nb = GaussianNB()\n",
    "nb.fit(x_train, y_train)\n",
    "nb_pred = nb.predict(x_test)"
   ]
  },
  {
   "cell_type": "code",
   "execution_count": 9,
   "id": "58e95af6",
   "metadata": {
    "execution": {
     "iopub.execute_input": "2024-04-21T07:38:31.472004Z",
     "iopub.status.busy": "2024-04-21T07:38:31.471678Z",
     "iopub.status.idle": "2024-04-21T07:38:31.483685Z",
     "shell.execute_reply": "2024-04-21T07:38:31.482682Z"
    },
    "papermill": {
     "duration": 0.028474,
     "end_time": "2024-04-21T07:38:31.485863",
     "exception": false,
     "start_time": "2024-04-21T07:38:31.457389",
     "status": "completed"
    },
    "tags": []
   },
   "outputs": [
    {
     "name": "stdout",
     "output_type": "stream",
     "text": [
      "Naive Bayes Accuracy: 0.47\n",
      "Naive Bayes Precision: 0.49375\n",
      "Naive Bayes Recall: 0.47\n"
     ]
    }
   ],
   "source": [
    "#Calculating metrics for Naive Bayes\n",
    "nb_accuracy = accuracy_score(y_test, nb_pred)\n",
    "nb_precision = precision_score(y_test, nb_pred, average='weighted')\n",
    "nb_recall = recall_score(y_test, nb_pred, average='weighted')\n",
    "\n",
    "print(\"Naive Bayes Accuracy:\", nb_accuracy)\n",
    "print(\"Naive Bayes Precision:\", nb_precision)\n",
    "print(\"Naive Bayes Recall:\", nb_recall)"
   ]
  },
  {
   "cell_type": "markdown",
   "id": "4745fd23",
   "metadata": {
    "papermill": {
     "duration": 0.012352,
     "end_time": "2024-04-21T07:38:31.510658",
     "exception": false,
     "start_time": "2024-04-21T07:38:31.498306",
     "status": "completed"
    },
    "tags": []
   },
   "source": [
    "**Part 2:** Performing Clasiification using Transfer Learning"
   ]
  },
  {
   "cell_type": "code",
   "execution_count": 10,
   "id": "1832a78d",
   "metadata": {
    "execution": {
     "iopub.execute_input": "2024-04-21T07:38:31.536637Z",
     "iopub.status.busy": "2024-04-21T07:38:31.536355Z",
     "iopub.status.idle": "2024-04-21T07:38:31.540410Z",
     "shell.execute_reply": "2024-04-21T07:38:31.539554Z"
    },
    "papermill": {
     "duration": 0.01905,
     "end_time": "2024-04-21T07:38:31.542340",
     "exception": false,
     "start_time": "2024-04-21T07:38:31.523290",
     "status": "completed"
    },
    "tags": []
   },
   "outputs": [],
   "source": [
    "path = Path('/kaggle/input/bone-fracture-detection-using-xrays/archive (6)')"
   ]
  },
  {
   "cell_type": "code",
   "execution_count": 11,
   "id": "9eb0bcd6",
   "metadata": {
    "execution": {
     "iopub.execute_input": "2024-04-21T07:38:31.566825Z",
     "iopub.status.busy": "2024-04-21T07:38:31.566546Z",
     "iopub.status.idle": "2024-04-21T07:38:34.624020Z",
     "shell.execute_reply": "2024-04-21T07:38:34.623248Z"
    },
    "papermill": {
     "duration": 3.072303,
     "end_time": "2024-04-21T07:38:34.626243",
     "exception": false,
     "start_time": "2024-04-21T07:38:31.553940",
     "status": "completed"
    },
    "tags": []
   },
   "outputs": [],
   "source": [
    "dls = ImageDataLoaders.from_folder(path, train='train', valid_pct=0.2 , bs=32, item_tfms=Resize(150, ResizeMethod.Squish),seed=42)"
   ]
  },
  {
   "cell_type": "code",
   "execution_count": 12,
   "id": "bd2c7702",
   "metadata": {
    "execution": {
     "iopub.execute_input": "2024-04-21T07:38:34.650836Z",
     "iopub.status.busy": "2024-04-21T07:38:34.650545Z",
     "iopub.status.idle": "2024-04-21T07:38:36.168992Z",
     "shell.execute_reply": "2024-04-21T07:38:36.168173Z"
    },
    "papermill": {
     "duration": 1.53316,
     "end_time": "2024-04-21T07:38:36.171335",
     "exception": false,
     "start_time": "2024-04-21T07:38:34.638175",
     "status": "completed"
    },
    "tags": []
   },
   "outputs": [
    {
     "data": {
      "application/vnd.jupyter.widget-view+json": {
       "model_id": "0e162e8f2ff14747bbf9b40ab00e9298",
       "version_major": 2,
       "version_minor": 0
      },
      "text/plain": [
       "model.safetensors:   0%|          | 0.00/102M [00:00<?, ?B/s]"
      ]
     },
     "metadata": {},
     "output_type": "display_data"
    }
   ],
   "source": [
    "resnet_model = timm.create_model('resnet50', pretrained=True, num_classes=2)\n",
    "for param in resnet_model.parameters():\n",
    "    param.requires_grad = True"
   ]
  },
  {
   "cell_type": "code",
   "execution_count": 13,
   "id": "84114f31",
   "metadata": {
    "execution": {
     "iopub.execute_input": "2024-04-21T07:38:36.198809Z",
     "iopub.status.busy": "2024-04-21T07:38:36.198452Z",
     "iopub.status.idle": "2024-04-21T07:38:36.202969Z",
     "shell.execute_reply": "2024-04-21T07:38:36.202121Z"
    },
    "papermill": {
     "duration": 0.020193,
     "end_time": "2024-04-21T07:38:36.204983",
     "exception": false,
     "start_time": "2024-04-21T07:38:36.184790",
     "status": "completed"
    },
    "tags": []
   },
   "outputs": [],
   "source": [
    "save_callback = SaveModelCallback(monitor='accuracy', fname='resnet50_best_model')"
   ]
  },
  {
   "cell_type": "code",
   "execution_count": 14,
   "id": "730c10db",
   "metadata": {
    "execution": {
     "iopub.execute_input": "2024-04-21T07:38:36.232431Z",
     "iopub.status.busy": "2024-04-21T07:38:36.231735Z",
     "iopub.status.idle": "2024-04-21T07:38:36.237657Z",
     "shell.execute_reply": "2024-04-21T07:38:36.236817Z"
    },
    "papermill": {
     "duration": 0.021991,
     "end_time": "2024-04-21T07:38:36.239529",
     "exception": false,
     "start_time": "2024-04-21T07:38:36.217538",
     "status": "completed"
    },
    "tags": []
   },
   "outputs": [],
   "source": [
    "learner = Learner(dls = dls, model = resnet_model, model_dir = \"/kaggle/working/\", metrics = [accuracy, error_rate], cbs=save_callback,loss_func=CrossEntropyLossFlat(), opt_func=Adam)"
   ]
  },
  {
   "cell_type": "code",
   "execution_count": 15,
   "id": "3725d9ad",
   "metadata": {
    "execution": {
     "iopub.execute_input": "2024-04-21T07:38:36.264923Z",
     "iopub.status.busy": "2024-04-21T07:38:36.264456Z",
     "iopub.status.idle": "2024-04-21T07:43:49.527788Z",
     "shell.execute_reply": "2024-04-21T07:43:49.526576Z"
    },
    "papermill": {
     "duration": 313.279123,
     "end_time": "2024-04-21T07:43:49.530307",
     "exception": false,
     "start_time": "2024-04-21T07:38:36.251184",
     "status": "completed"
    },
    "tags": []
   },
   "outputs": [
    {
     "data": {
      "text/html": [
       "\n",
       "<style>\n",
       "    /* Turns off some styling */\n",
       "    progress {\n",
       "        /* gets rid of default border in Firefox and Opera. */\n",
       "        border: none;\n",
       "        /* Needs to be in here for Safari polyfill so background images work as expected. */\n",
       "        background-size: auto;\n",
       "    }\n",
       "    progress:not([value]), progress:not([value])::-webkit-progress-bar {\n",
       "        background: repeating-linear-gradient(45deg, #7e7e7e, #7e7e7e 10px, #5c5c5c 10px, #5c5c5c 20px);\n",
       "    }\n",
       "    .progress-bar-interrupted, .progress-bar-interrupted::-webkit-progress-bar {\n",
       "        background: #F44336;\n",
       "    }\n",
       "</style>\n"
      ],
      "text/plain": [
       "<IPython.core.display.HTML object>"
      ]
     },
     "metadata": {},
     "output_type": "display_data"
    },
    {
     "data": {
      "text/html": [
       "<table border=\"1\" class=\"dataframe\">\n",
       "  <thead>\n",
       "    <tr style=\"text-align: left;\">\n",
       "      <th>epoch</th>\n",
       "      <th>train_loss</th>\n",
       "      <th>valid_loss</th>\n",
       "      <th>accuracy</th>\n",
       "      <th>error_rate</th>\n",
       "      <th>time</th>\n",
       "    </tr>\n",
       "  </thead>\n",
       "  <tbody>\n",
       "    <tr>\n",
       "      <td>0</td>\n",
       "      <td>0.395679</td>\n",
       "      <td>0.212595</td>\n",
       "      <td>0.911734</td>\n",
       "      <td>0.088266</td>\n",
       "      <td>00:32</td>\n",
       "    </tr>\n",
       "    <tr>\n",
       "      <td>1</td>\n",
       "      <td>0.096578</td>\n",
       "      <td>0.106647</td>\n",
       "      <td>0.962474</td>\n",
       "      <td>0.037526</td>\n",
       "      <td>00:31</td>\n",
       "    </tr>\n",
       "    <tr>\n",
       "      <td>2</td>\n",
       "      <td>0.049002</td>\n",
       "      <td>0.066886</td>\n",
       "      <td>0.978330</td>\n",
       "      <td>0.021670</td>\n",
       "      <td>00:30</td>\n",
       "    </tr>\n",
       "    <tr>\n",
       "      <td>3</td>\n",
       "      <td>0.032229</td>\n",
       "      <td>0.939639</td>\n",
       "      <td>0.744186</td>\n",
       "      <td>0.255814</td>\n",
       "      <td>00:31</td>\n",
       "    </tr>\n",
       "    <tr>\n",
       "      <td>4</td>\n",
       "      <td>0.020847</td>\n",
       "      <td>0.006614</td>\n",
       "      <td>0.998414</td>\n",
       "      <td>0.001586</td>\n",
       "      <td>00:31</td>\n",
       "    </tr>\n",
       "    <tr>\n",
       "      <td>5</td>\n",
       "      <td>0.016578</td>\n",
       "      <td>0.006263</td>\n",
       "      <td>0.997886</td>\n",
       "      <td>0.002114</td>\n",
       "      <td>00:30</td>\n",
       "    </tr>\n",
       "    <tr>\n",
       "      <td>6</td>\n",
       "      <td>0.002309</td>\n",
       "      <td>0.003163</td>\n",
       "      <td>0.997886</td>\n",
       "      <td>0.002114</td>\n",
       "      <td>00:30</td>\n",
       "    </tr>\n",
       "    <tr>\n",
       "      <td>7</td>\n",
       "      <td>0.000304</td>\n",
       "      <td>0.000587</td>\n",
       "      <td>0.999471</td>\n",
       "      <td>0.000529</td>\n",
       "      <td>00:30</td>\n",
       "    </tr>\n",
       "    <tr>\n",
       "      <td>8</td>\n",
       "      <td>0.000360</td>\n",
       "      <td>0.000516</td>\n",
       "      <td>0.999471</td>\n",
       "      <td>0.000529</td>\n",
       "      <td>00:31</td>\n",
       "    </tr>\n",
       "    <tr>\n",
       "      <td>9</td>\n",
       "      <td>0.000247</td>\n",
       "      <td>0.000542</td>\n",
       "      <td>0.999471</td>\n",
       "      <td>0.000529</td>\n",
       "      <td>00:31</td>\n",
       "    </tr>\n",
       "  </tbody>\n",
       "</table>"
      ],
      "text/plain": [
       "<IPython.core.display.HTML object>"
      ]
     },
     "metadata": {},
     "output_type": "display_data"
    },
    {
     "name": "stdout",
     "output_type": "stream",
     "text": [
      "Better model found at epoch 0 with accuracy value: 0.9117336273193359.\n",
      "Better model found at epoch 1 with accuracy value: 0.9624735713005066.\n",
      "Better model found at epoch 2 with accuracy value: 0.9783298373222351.\n",
      "Better model found at epoch 4 with accuracy value: 0.9984143972396851.\n",
      "Better model found at epoch 7 with accuracy value: 0.9994714856147766.\n"
     ]
    }
   ],
   "source": [
    "learner.fit_one_cycle(10, lr_max = 0.001)"
   ]
  },
  {
   "cell_type": "code",
   "execution_count": 16,
   "id": "0a65504d",
   "metadata": {
    "execution": {
     "iopub.execute_input": "2024-04-21T07:43:49.558073Z",
     "iopub.status.busy": "2024-04-21T07:43:49.557324Z",
     "iopub.status.idle": "2024-04-21T07:43:49.564890Z",
     "shell.execute_reply": "2024-04-21T07:43:49.564199Z"
    },
    "papermill": {
     "duration": 0.023281,
     "end_time": "2024-04-21T07:43:49.566664",
     "exception": false,
     "start_time": "2024-04-21T07:43:49.543383",
     "status": "completed"
    },
    "tags": []
   },
   "outputs": [],
   "source": [
    "filename,gt=[],[]\n",
    "test='/kaggle/input/bone-fracture-detection-using-xrays/archive (6)/val/'\n",
    "k=0\n",
    "for j in ['fractured','not fractured']:\n",
    "    temp=test+j\n",
    "    for i in os.listdir(temp):\n",
    "        temp1 = temp+'/'+i\n",
    "        filename.append(temp1)\n",
    "        gt.append(k)\n",
    "    k = k+1"
   ]
  },
  {
   "cell_type": "code",
   "execution_count": 17,
   "id": "22adcfe8",
   "metadata": {
    "execution": {
     "iopub.execute_input": "2024-04-21T07:43:49.593856Z",
     "iopub.status.busy": "2024-04-21T07:43:49.593329Z",
     "iopub.status.idle": "2024-04-21T07:43:51.363799Z",
     "shell.execute_reply": "2024-04-21T07:43:51.362633Z"
    },
    "papermill": {
     "duration": 1.786498,
     "end_time": "2024-04-21T07:43:51.365800",
     "exception": false,
     "start_time": "2024-04-21T07:43:49.579302",
     "status": "completed"
    },
    "tags": []
   },
   "outputs": [
    {
     "data": {
      "text/html": [
       "\n",
       "<style>\n",
       "    /* Turns off some styling */\n",
       "    progress {\n",
       "        /* gets rid of default border in Firefox and Opera. */\n",
       "        border: none;\n",
       "        /* Needs to be in here for Safari polyfill so background images work as expected. */\n",
       "        background-size: auto;\n",
       "    }\n",
       "    progress:not([value]), progress:not([value])::-webkit-progress-bar {\n",
       "        background: repeating-linear-gradient(45deg, #7e7e7e, #7e7e7e 10px, #5c5c5c 10px, #5c5c5c 20px);\n",
       "    }\n",
       "    .progress-bar-interrupted, .progress-bar-interrupted::-webkit-progress-bar {\n",
       "        background: #F44336;\n",
       "    }\n",
       "</style>\n"
      ],
      "text/plain": [
       "<IPython.core.display.HTML object>"
      ]
     },
     "metadata": {},
     "output_type": "display_data"
    },
    {
     "data": {
      "text/html": [],
      "text/plain": [
       "<IPython.core.display.HTML object>"
      ]
     },
     "metadata": {},
     "output_type": "display_data"
    },
    {
     "name": "stdout",
     "output_type": "stream",
     "text": [
      "              precision    recall  f1-score   support\n",
      "\n",
      "           0     1.0000    1.0000    1.0000       360\n",
      "           1     1.0000    1.0000    1.0000       240\n",
      "\n",
      "    accuracy                         1.0000       600\n",
      "   macro avg     1.0000    1.0000    1.0000       600\n",
      "weighted avg     1.0000    1.0000    1.0000       600\n",
      "\n",
      "[[360   0]\n",
      " [  0 240]]\n"
     ]
    }
   ],
   "source": [
    "test_dl = dls.test_dl(filename)\n",
    "preds, y = learner.get_preds(dl=test_dl)\n",
    "predd = [torch.argmax(preds[i]).item() for i in range(len(preds))]\n",
    "from sklearn.metrics import confusion_matrix,classification_report\n",
    "print(classification_report(gt,predd,digits=4))\n",
    "print(confusion_matrix(gt,predd))"
   ]
  },
  {
   "cell_type": "code",
   "execution_count": 18,
   "id": "d273d17b",
   "metadata": {
    "execution": {
     "iopub.execute_input": "2024-04-21T07:43:51.394134Z",
     "iopub.status.busy": "2024-04-21T07:43:51.393519Z",
     "iopub.status.idle": "2024-04-21T07:43:51.398146Z",
     "shell.execute_reply": "2024-04-21T07:43:51.397326Z"
    },
    "papermill": {
     "duration": 0.020902,
     "end_time": "2024-04-21T07:43:51.400122",
     "exception": false,
     "start_time": "2024-04-21T07:43:51.379220",
     "status": "completed"
    },
    "tags": []
   },
   "outputs": [],
   "source": [
    "#Removing the last fully connected layer\n",
    "resnet_features = torch.nn.Sequential(*list(resnet_model.children())[:-1])"
   ]
  },
  {
   "cell_type": "code",
   "execution_count": 19,
   "id": "95558bc8",
   "metadata": {
    "_kg_hide-output": true,
    "execution": {
     "iopub.execute_input": "2024-04-21T07:43:51.427623Z",
     "iopub.status.busy": "2024-04-21T07:43:51.427346Z",
     "iopub.status.idle": "2024-04-21T07:43:51.437807Z",
     "shell.execute_reply": "2024-04-21T07:43:51.436973Z"
    },
    "papermill": {
     "duration": 0.026314,
     "end_time": "2024-04-21T07:43:51.439780",
     "exception": false,
     "start_time": "2024-04-21T07:43:51.413466",
     "status": "completed"
    },
    "scrolled": true,
    "tags": []
   },
   "outputs": [
    {
     "data": {
      "text/plain": [
       "Sequential(\n",
       "  (0): Conv2d(3, 64, kernel_size=(7, 7), stride=(2, 2), padding=(3, 3), bias=False)\n",
       "  (1): BatchNorm2d(64, eps=1e-05, momentum=0.1, affine=True, track_running_stats=True)\n",
       "  (2): ReLU(inplace=True)\n",
       "  (3): MaxPool2d(kernel_size=3, stride=2, padding=1, dilation=1, ceil_mode=False)\n",
       "  (4): Sequential(\n",
       "    (0): Bottleneck(\n",
       "      (conv1): Conv2d(64, 64, kernel_size=(1, 1), stride=(1, 1), bias=False)\n",
       "      (bn1): BatchNorm2d(64, eps=1e-05, momentum=0.1, affine=True, track_running_stats=True)\n",
       "      (act1): ReLU(inplace=True)\n",
       "      (conv2): Conv2d(64, 64, kernel_size=(3, 3), stride=(1, 1), padding=(1, 1), bias=False)\n",
       "      (bn2): BatchNorm2d(64, eps=1e-05, momentum=0.1, affine=True, track_running_stats=True)\n",
       "      (drop_block): Identity()\n",
       "      (act2): ReLU(inplace=True)\n",
       "      (aa): Identity()\n",
       "      (conv3): Conv2d(64, 256, kernel_size=(1, 1), stride=(1, 1), bias=False)\n",
       "      (bn3): BatchNorm2d(256, eps=1e-05, momentum=0.1, affine=True, track_running_stats=True)\n",
       "      (act3): ReLU(inplace=True)\n",
       "      (downsample): Sequential(\n",
       "        (0): Conv2d(64, 256, kernel_size=(1, 1), stride=(1, 1), bias=False)\n",
       "        (1): BatchNorm2d(256, eps=1e-05, momentum=0.1, affine=True, track_running_stats=True)\n",
       "      )\n",
       "    )\n",
       "    (1): Bottleneck(\n",
       "      (conv1): Conv2d(256, 64, kernel_size=(1, 1), stride=(1, 1), bias=False)\n",
       "      (bn1): BatchNorm2d(64, eps=1e-05, momentum=0.1, affine=True, track_running_stats=True)\n",
       "      (act1): ReLU(inplace=True)\n",
       "      (conv2): Conv2d(64, 64, kernel_size=(3, 3), stride=(1, 1), padding=(1, 1), bias=False)\n",
       "      (bn2): BatchNorm2d(64, eps=1e-05, momentum=0.1, affine=True, track_running_stats=True)\n",
       "      (drop_block): Identity()\n",
       "      (act2): ReLU(inplace=True)\n",
       "      (aa): Identity()\n",
       "      (conv3): Conv2d(64, 256, kernel_size=(1, 1), stride=(1, 1), bias=False)\n",
       "      (bn3): BatchNorm2d(256, eps=1e-05, momentum=0.1, affine=True, track_running_stats=True)\n",
       "      (act3): ReLU(inplace=True)\n",
       "    )\n",
       "    (2): Bottleneck(\n",
       "      (conv1): Conv2d(256, 64, kernel_size=(1, 1), stride=(1, 1), bias=False)\n",
       "      (bn1): BatchNorm2d(64, eps=1e-05, momentum=0.1, affine=True, track_running_stats=True)\n",
       "      (act1): ReLU(inplace=True)\n",
       "      (conv2): Conv2d(64, 64, kernel_size=(3, 3), stride=(1, 1), padding=(1, 1), bias=False)\n",
       "      (bn2): BatchNorm2d(64, eps=1e-05, momentum=0.1, affine=True, track_running_stats=True)\n",
       "      (drop_block): Identity()\n",
       "      (act2): ReLU(inplace=True)\n",
       "      (aa): Identity()\n",
       "      (conv3): Conv2d(64, 256, kernel_size=(1, 1), stride=(1, 1), bias=False)\n",
       "      (bn3): BatchNorm2d(256, eps=1e-05, momentum=0.1, affine=True, track_running_stats=True)\n",
       "      (act3): ReLU(inplace=True)\n",
       "    )\n",
       "  )\n",
       "  (5): Sequential(\n",
       "    (0): Bottleneck(\n",
       "      (conv1): Conv2d(256, 128, kernel_size=(1, 1), stride=(1, 1), bias=False)\n",
       "      (bn1): BatchNorm2d(128, eps=1e-05, momentum=0.1, affine=True, track_running_stats=True)\n",
       "      (act1): ReLU(inplace=True)\n",
       "      (conv2): Conv2d(128, 128, kernel_size=(3, 3), stride=(2, 2), padding=(1, 1), bias=False)\n",
       "      (bn2): BatchNorm2d(128, eps=1e-05, momentum=0.1, affine=True, track_running_stats=True)\n",
       "      (drop_block): Identity()\n",
       "      (act2): ReLU(inplace=True)\n",
       "      (aa): Identity()\n",
       "      (conv3): Conv2d(128, 512, kernel_size=(1, 1), stride=(1, 1), bias=False)\n",
       "      (bn3): BatchNorm2d(512, eps=1e-05, momentum=0.1, affine=True, track_running_stats=True)\n",
       "      (act3): ReLU(inplace=True)\n",
       "      (downsample): Sequential(\n",
       "        (0): Conv2d(256, 512, kernel_size=(1, 1), stride=(2, 2), bias=False)\n",
       "        (1): BatchNorm2d(512, eps=1e-05, momentum=0.1, affine=True, track_running_stats=True)\n",
       "      )\n",
       "    )\n",
       "    (1): Bottleneck(\n",
       "      (conv1): Conv2d(512, 128, kernel_size=(1, 1), stride=(1, 1), bias=False)\n",
       "      (bn1): BatchNorm2d(128, eps=1e-05, momentum=0.1, affine=True, track_running_stats=True)\n",
       "      (act1): ReLU(inplace=True)\n",
       "      (conv2): Conv2d(128, 128, kernel_size=(3, 3), stride=(1, 1), padding=(1, 1), bias=False)\n",
       "      (bn2): BatchNorm2d(128, eps=1e-05, momentum=0.1, affine=True, track_running_stats=True)\n",
       "      (drop_block): Identity()\n",
       "      (act2): ReLU(inplace=True)\n",
       "      (aa): Identity()\n",
       "      (conv3): Conv2d(128, 512, kernel_size=(1, 1), stride=(1, 1), bias=False)\n",
       "      (bn3): BatchNorm2d(512, eps=1e-05, momentum=0.1, affine=True, track_running_stats=True)\n",
       "      (act3): ReLU(inplace=True)\n",
       "    )\n",
       "    (2): Bottleneck(\n",
       "      (conv1): Conv2d(512, 128, kernel_size=(1, 1), stride=(1, 1), bias=False)\n",
       "      (bn1): BatchNorm2d(128, eps=1e-05, momentum=0.1, affine=True, track_running_stats=True)\n",
       "      (act1): ReLU(inplace=True)\n",
       "      (conv2): Conv2d(128, 128, kernel_size=(3, 3), stride=(1, 1), padding=(1, 1), bias=False)\n",
       "      (bn2): BatchNorm2d(128, eps=1e-05, momentum=0.1, affine=True, track_running_stats=True)\n",
       "      (drop_block): Identity()\n",
       "      (act2): ReLU(inplace=True)\n",
       "      (aa): Identity()\n",
       "      (conv3): Conv2d(128, 512, kernel_size=(1, 1), stride=(1, 1), bias=False)\n",
       "      (bn3): BatchNorm2d(512, eps=1e-05, momentum=0.1, affine=True, track_running_stats=True)\n",
       "      (act3): ReLU(inplace=True)\n",
       "    )\n",
       "    (3): Bottleneck(\n",
       "      (conv1): Conv2d(512, 128, kernel_size=(1, 1), stride=(1, 1), bias=False)\n",
       "      (bn1): BatchNorm2d(128, eps=1e-05, momentum=0.1, affine=True, track_running_stats=True)\n",
       "      (act1): ReLU(inplace=True)\n",
       "      (conv2): Conv2d(128, 128, kernel_size=(3, 3), stride=(1, 1), padding=(1, 1), bias=False)\n",
       "      (bn2): BatchNorm2d(128, eps=1e-05, momentum=0.1, affine=True, track_running_stats=True)\n",
       "      (drop_block): Identity()\n",
       "      (act2): ReLU(inplace=True)\n",
       "      (aa): Identity()\n",
       "      (conv3): Conv2d(128, 512, kernel_size=(1, 1), stride=(1, 1), bias=False)\n",
       "      (bn3): BatchNorm2d(512, eps=1e-05, momentum=0.1, affine=True, track_running_stats=True)\n",
       "      (act3): ReLU(inplace=True)\n",
       "    )\n",
       "  )\n",
       "  (6): Sequential(\n",
       "    (0): Bottleneck(\n",
       "      (conv1): Conv2d(512, 256, kernel_size=(1, 1), stride=(1, 1), bias=False)\n",
       "      (bn1): BatchNorm2d(256, eps=1e-05, momentum=0.1, affine=True, track_running_stats=True)\n",
       "      (act1): ReLU(inplace=True)\n",
       "      (conv2): Conv2d(256, 256, kernel_size=(3, 3), stride=(2, 2), padding=(1, 1), bias=False)\n",
       "      (bn2): BatchNorm2d(256, eps=1e-05, momentum=0.1, affine=True, track_running_stats=True)\n",
       "      (drop_block): Identity()\n",
       "      (act2): ReLU(inplace=True)\n",
       "      (aa): Identity()\n",
       "      (conv3): Conv2d(256, 1024, kernel_size=(1, 1), stride=(1, 1), bias=False)\n",
       "      (bn3): BatchNorm2d(1024, eps=1e-05, momentum=0.1, affine=True, track_running_stats=True)\n",
       "      (act3): ReLU(inplace=True)\n",
       "      (downsample): Sequential(\n",
       "        (0): Conv2d(512, 1024, kernel_size=(1, 1), stride=(2, 2), bias=False)\n",
       "        (1): BatchNorm2d(1024, eps=1e-05, momentum=0.1, affine=True, track_running_stats=True)\n",
       "      )\n",
       "    )\n",
       "    (1): Bottleneck(\n",
       "      (conv1): Conv2d(1024, 256, kernel_size=(1, 1), stride=(1, 1), bias=False)\n",
       "      (bn1): BatchNorm2d(256, eps=1e-05, momentum=0.1, affine=True, track_running_stats=True)\n",
       "      (act1): ReLU(inplace=True)\n",
       "      (conv2): Conv2d(256, 256, kernel_size=(3, 3), stride=(1, 1), padding=(1, 1), bias=False)\n",
       "      (bn2): BatchNorm2d(256, eps=1e-05, momentum=0.1, affine=True, track_running_stats=True)\n",
       "      (drop_block): Identity()\n",
       "      (act2): ReLU(inplace=True)\n",
       "      (aa): Identity()\n",
       "      (conv3): Conv2d(256, 1024, kernel_size=(1, 1), stride=(1, 1), bias=False)\n",
       "      (bn3): BatchNorm2d(1024, eps=1e-05, momentum=0.1, affine=True, track_running_stats=True)\n",
       "      (act3): ReLU(inplace=True)\n",
       "    )\n",
       "    (2): Bottleneck(\n",
       "      (conv1): Conv2d(1024, 256, kernel_size=(1, 1), stride=(1, 1), bias=False)\n",
       "      (bn1): BatchNorm2d(256, eps=1e-05, momentum=0.1, affine=True, track_running_stats=True)\n",
       "      (act1): ReLU(inplace=True)\n",
       "      (conv2): Conv2d(256, 256, kernel_size=(3, 3), stride=(1, 1), padding=(1, 1), bias=False)\n",
       "      (bn2): BatchNorm2d(256, eps=1e-05, momentum=0.1, affine=True, track_running_stats=True)\n",
       "      (drop_block): Identity()\n",
       "      (act2): ReLU(inplace=True)\n",
       "      (aa): Identity()\n",
       "      (conv3): Conv2d(256, 1024, kernel_size=(1, 1), stride=(1, 1), bias=False)\n",
       "      (bn3): BatchNorm2d(1024, eps=1e-05, momentum=0.1, affine=True, track_running_stats=True)\n",
       "      (act3): ReLU(inplace=True)\n",
       "    )\n",
       "    (3): Bottleneck(\n",
       "      (conv1): Conv2d(1024, 256, kernel_size=(1, 1), stride=(1, 1), bias=False)\n",
       "      (bn1): BatchNorm2d(256, eps=1e-05, momentum=0.1, affine=True, track_running_stats=True)\n",
       "      (act1): ReLU(inplace=True)\n",
       "      (conv2): Conv2d(256, 256, kernel_size=(3, 3), stride=(1, 1), padding=(1, 1), bias=False)\n",
       "      (bn2): BatchNorm2d(256, eps=1e-05, momentum=0.1, affine=True, track_running_stats=True)\n",
       "      (drop_block): Identity()\n",
       "      (act2): ReLU(inplace=True)\n",
       "      (aa): Identity()\n",
       "      (conv3): Conv2d(256, 1024, kernel_size=(1, 1), stride=(1, 1), bias=False)\n",
       "      (bn3): BatchNorm2d(1024, eps=1e-05, momentum=0.1, affine=True, track_running_stats=True)\n",
       "      (act3): ReLU(inplace=True)\n",
       "    )\n",
       "    (4): Bottleneck(\n",
       "      (conv1): Conv2d(1024, 256, kernel_size=(1, 1), stride=(1, 1), bias=False)\n",
       "      (bn1): BatchNorm2d(256, eps=1e-05, momentum=0.1, affine=True, track_running_stats=True)\n",
       "      (act1): ReLU(inplace=True)\n",
       "      (conv2): Conv2d(256, 256, kernel_size=(3, 3), stride=(1, 1), padding=(1, 1), bias=False)\n",
       "      (bn2): BatchNorm2d(256, eps=1e-05, momentum=0.1, affine=True, track_running_stats=True)\n",
       "      (drop_block): Identity()\n",
       "      (act2): ReLU(inplace=True)\n",
       "      (aa): Identity()\n",
       "      (conv3): Conv2d(256, 1024, kernel_size=(1, 1), stride=(1, 1), bias=False)\n",
       "      (bn3): BatchNorm2d(1024, eps=1e-05, momentum=0.1, affine=True, track_running_stats=True)\n",
       "      (act3): ReLU(inplace=True)\n",
       "    )\n",
       "    (5): Bottleneck(\n",
       "      (conv1): Conv2d(1024, 256, kernel_size=(1, 1), stride=(1, 1), bias=False)\n",
       "      (bn1): BatchNorm2d(256, eps=1e-05, momentum=0.1, affine=True, track_running_stats=True)\n",
       "      (act1): ReLU(inplace=True)\n",
       "      (conv2): Conv2d(256, 256, kernel_size=(3, 3), stride=(1, 1), padding=(1, 1), bias=False)\n",
       "      (bn2): BatchNorm2d(256, eps=1e-05, momentum=0.1, affine=True, track_running_stats=True)\n",
       "      (drop_block): Identity()\n",
       "      (act2): ReLU(inplace=True)\n",
       "      (aa): Identity()\n",
       "      (conv3): Conv2d(256, 1024, kernel_size=(1, 1), stride=(1, 1), bias=False)\n",
       "      (bn3): BatchNorm2d(1024, eps=1e-05, momentum=0.1, affine=True, track_running_stats=True)\n",
       "      (act3): ReLU(inplace=True)\n",
       "    )\n",
       "  )\n",
       "  (7): Sequential(\n",
       "    (0): Bottleneck(\n",
       "      (conv1): Conv2d(1024, 512, kernel_size=(1, 1), stride=(1, 1), bias=False)\n",
       "      (bn1): BatchNorm2d(512, eps=1e-05, momentum=0.1, affine=True, track_running_stats=True)\n",
       "      (act1): ReLU(inplace=True)\n",
       "      (conv2): Conv2d(512, 512, kernel_size=(3, 3), stride=(2, 2), padding=(1, 1), bias=False)\n",
       "      (bn2): BatchNorm2d(512, eps=1e-05, momentum=0.1, affine=True, track_running_stats=True)\n",
       "      (drop_block): Identity()\n",
       "      (act2): ReLU(inplace=True)\n",
       "      (aa): Identity()\n",
       "      (conv3): Conv2d(512, 2048, kernel_size=(1, 1), stride=(1, 1), bias=False)\n",
       "      (bn3): BatchNorm2d(2048, eps=1e-05, momentum=0.1, affine=True, track_running_stats=True)\n",
       "      (act3): ReLU(inplace=True)\n",
       "      (downsample): Sequential(\n",
       "        (0): Conv2d(1024, 2048, kernel_size=(1, 1), stride=(2, 2), bias=False)\n",
       "        (1): BatchNorm2d(2048, eps=1e-05, momentum=0.1, affine=True, track_running_stats=True)\n",
       "      )\n",
       "    )\n",
       "    (1): Bottleneck(\n",
       "      (conv1): Conv2d(2048, 512, kernel_size=(1, 1), stride=(1, 1), bias=False)\n",
       "      (bn1): BatchNorm2d(512, eps=1e-05, momentum=0.1, affine=True, track_running_stats=True)\n",
       "      (act1): ReLU(inplace=True)\n",
       "      (conv2): Conv2d(512, 512, kernel_size=(3, 3), stride=(1, 1), padding=(1, 1), bias=False)\n",
       "      (bn2): BatchNorm2d(512, eps=1e-05, momentum=0.1, affine=True, track_running_stats=True)\n",
       "      (drop_block): Identity()\n",
       "      (act2): ReLU(inplace=True)\n",
       "      (aa): Identity()\n",
       "      (conv3): Conv2d(512, 2048, kernel_size=(1, 1), stride=(1, 1), bias=False)\n",
       "      (bn3): BatchNorm2d(2048, eps=1e-05, momentum=0.1, affine=True, track_running_stats=True)\n",
       "      (act3): ReLU(inplace=True)\n",
       "    )\n",
       "    (2): Bottleneck(\n",
       "      (conv1): Conv2d(2048, 512, kernel_size=(1, 1), stride=(1, 1), bias=False)\n",
       "      (bn1): BatchNorm2d(512, eps=1e-05, momentum=0.1, affine=True, track_running_stats=True)\n",
       "      (act1): ReLU(inplace=True)\n",
       "      (conv2): Conv2d(512, 512, kernel_size=(3, 3), stride=(1, 1), padding=(1, 1), bias=False)\n",
       "      (bn2): BatchNorm2d(512, eps=1e-05, momentum=0.1, affine=True, track_running_stats=True)\n",
       "      (drop_block): Identity()\n",
       "      (act2): ReLU(inplace=True)\n",
       "      (aa): Identity()\n",
       "      (conv3): Conv2d(512, 2048, kernel_size=(1, 1), stride=(1, 1), bias=False)\n",
       "      (bn3): BatchNorm2d(2048, eps=1e-05, momentum=0.1, affine=True, track_running_stats=True)\n",
       "      (act3): ReLU(inplace=True)\n",
       "    )\n",
       "  )\n",
       "  (8): SelectAdaptivePool2d(pool_type=avg, flatten=Flatten(start_dim=1, end_dim=-1))\n",
       ")"
      ]
     },
     "execution_count": 19,
     "metadata": {},
     "output_type": "execute_result"
    }
   ],
   "source": [
    "resnet_features.eval()"
   ]
  },
  {
   "cell_type": "code",
   "execution_count": 20,
   "id": "984d5e9c",
   "metadata": {
    "execution": {
     "iopub.execute_input": "2024-04-21T07:43:51.468115Z",
     "iopub.status.busy": "2024-04-21T07:43:51.467815Z",
     "iopub.status.idle": "2024-04-21T07:43:51.478031Z",
     "shell.execute_reply": "2024-04-21T07:43:51.477314Z"
    },
    "papermill": {
     "duration": 0.026497,
     "end_time": "2024-04-21T07:43:51.479876",
     "exception": false,
     "start_time": "2024-04-21T07:43:51.453379",
     "status": "completed"
    },
    "tags": []
   },
   "outputs": [],
   "source": [
    "device = torch.device(\"cuda\" if torch.cuda.is_available() else \"cpu\")\n",
    "resnet_features = resnet_features.to(device)  # Move model to CPU or GPU"
   ]
  },
  {
   "cell_type": "code",
   "execution_count": 21,
   "id": "676054b6",
   "metadata": {
    "execution": {
     "iopub.execute_input": "2024-04-21T07:43:51.553572Z",
     "iopub.status.busy": "2024-04-21T07:43:51.552775Z",
     "iopub.status.idle": "2024-04-21T07:43:51.559425Z",
     "shell.execute_reply": "2024-04-21T07:43:51.558547Z"
    },
    "papermill": {
     "duration": 0.067766,
     "end_time": "2024-04-21T07:43:51.561292",
     "exception": false,
     "start_time": "2024-04-21T07:43:51.493526",
     "status": "completed"
    },
    "tags": []
   },
   "outputs": [],
   "source": [
    "def extract_features(model, dataloader, device):\n",
    "    features = []\n",
    "    labels = []\n",
    "    for inputs, targets in dataloader:\n",
    "        inputs = inputs.to(device)\n",
    "        with torch.no_grad():\n",
    "            outputs = model(inputs)\n",
    "        features.append(outputs.cpu().numpy())  # Move outputs back to CPU\n",
    "        labels.append(targets.cpu().numpy())    # Move targets back to CPU\n",
    "    features = np.concatenate(features)\n",
    "    labels = np.concatenate(labels)\n",
    "    return features, labels"
   ]
  },
  {
   "cell_type": "code",
   "execution_count": 22,
   "id": "df5a5021",
   "metadata": {
    "execution": {
     "iopub.execute_input": "2024-04-21T07:43:51.589771Z",
     "iopub.status.busy": "2024-04-21T07:43:51.589496Z",
     "iopub.status.idle": "2024-04-21T07:44:16.332243Z",
     "shell.execute_reply": "2024-04-21T07:44:16.331353Z"
    },
    "papermill": {
     "duration": 24.760093,
     "end_time": "2024-04-21T07:44:16.334932",
     "exception": false,
     "start_time": "2024-04-21T07:43:51.574839",
     "status": "completed"
    },
    "tags": []
   },
   "outputs": [],
   "source": [
    "for inputs, targets in train_loader:\n",
    "    inputs = inputs.to(device)\n",
    "    targets = targets.to(device)\n",
    "    \n",
    "for inputs, targets in test_loader:\n",
    "    inputs = inputs.to(device)\n",
    "    targets = targets.to(device)"
   ]
  },
  {
   "cell_type": "code",
   "execution_count": 23,
   "id": "73faf1b5",
   "metadata": {
    "execution": {
     "iopub.execute_input": "2024-04-21T07:44:16.364580Z",
     "iopub.status.busy": "2024-04-21T07:44:16.364152Z",
     "iopub.status.idle": "2024-04-21T07:44:50.602164Z",
     "shell.execute_reply": "2024-04-21T07:44:50.601085Z"
    },
    "papermill": {
     "duration": 34.255507,
     "end_time": "2024-04-21T07:44:50.604638",
     "exception": false,
     "start_time": "2024-04-21T07:44:16.349131",
     "status": "completed"
    },
    "tags": []
   },
   "outputs": [],
   "source": [
    "train_features, train_labels = extract_features(resnet_features, train_loader, device)\n",
    "test_features, test_labels = extract_features(resnet_features, test_loader, device)\n",
    "\n",
    "#Flattening the features\n",
    "train_features_flat = train_features.reshape(train_features.shape[0], -1)\n",
    "test_features_flat = test_features.reshape(test_features.shape[0], -1)"
   ]
  },
  {
   "cell_type": "code",
   "execution_count": 24,
   "id": "3098ece1",
   "metadata": {
    "execution": {
     "iopub.execute_input": "2024-04-21T07:44:50.634008Z",
     "iopub.status.busy": "2024-04-21T07:44:50.633446Z",
     "iopub.status.idle": "2024-04-21T07:44:50.843939Z",
     "shell.execute_reply": "2024-04-21T07:44:50.842946Z"
    },
    "papermill": {
     "duration": 0.227401,
     "end_time": "2024-04-21T07:44:50.846333",
     "exception": false,
     "start_time": "2024-04-21T07:44:50.618932",
     "status": "completed"
    },
    "tags": []
   },
   "outputs": [],
   "source": [
    "#Feature scaling (necessary for KNN)\n",
    "scaler = StandardScaler()\n",
    "train_features_scaled = scaler.fit_transform(train_features_flat)\n",
    "test_features_scaled = scaler.transform(test_features_flat)"
   ]
  },
  {
   "cell_type": "code",
   "execution_count": 25,
   "id": "09fc4b4d",
   "metadata": {
    "execution": {
     "iopub.execute_input": "2024-04-21T07:44:50.874517Z",
     "iopub.status.busy": "2024-04-21T07:44:50.874169Z",
     "iopub.status.idle": "2024-04-21T07:44:51.283624Z",
     "shell.execute_reply": "2024-04-21T07:44:51.282617Z"
    },
    "papermill": {
     "duration": 0.425919,
     "end_time": "2024-04-21T07:44:51.285918",
     "exception": false,
     "start_time": "2024-04-21T07:44:50.859999",
     "status": "completed"
    },
    "tags": []
   },
   "outputs": [
    {
     "name": "stdout",
     "output_type": "stream",
     "text": [
      "KNN Accuracy: 1.0\n",
      "KNN Precision: 1.0\n",
      "KNN Recall: 1.0\n"
     ]
    }
   ],
   "source": [
    "# K-Nearest Neighbors (KNN)\n",
    "knn = KNeighborsClassifier(n_neighbors=5)\n",
    "knn.fit(train_features_scaled, train_labels)\n",
    "knn_pred = knn.predict(test_features_scaled)\n",
    "\n",
    "knn_accuracy = accuracy_score(test_labels, knn_pred)\n",
    "knn_precision = precision_score(test_labels, knn_pred, average='weighted')\n",
    "knn_recall = recall_score(test_labels, knn_pred, average='weighted')\n",
    "print(\"KNN Accuracy:\", knn_accuracy)\n",
    "print(\"KNN Precision:\", knn_precision)\n",
    "print(\"KNN Recall:\", knn_recall)"
   ]
  },
  {
   "cell_type": "code",
   "execution_count": 26,
   "id": "9ba10b75",
   "metadata": {
    "execution": {
     "iopub.execute_input": "2024-04-21T07:44:51.314455Z",
     "iopub.status.busy": "2024-04-21T07:44:51.314101Z",
     "iopub.status.idle": "2024-04-21T07:44:51.439446Z",
     "shell.execute_reply": "2024-04-21T07:44:51.438248Z"
    },
    "papermill": {
     "duration": 0.141847,
     "end_time": "2024-04-21T07:44:51.441473",
     "exception": false,
     "start_time": "2024-04-21T07:44:51.299626",
     "status": "completed"
    },
    "tags": []
   },
   "outputs": [
    {
     "name": "stdout",
     "output_type": "stream",
     "text": [
      "Naive Bayes Accuracy: 1.0\n",
      "Naive Bayes Precision: 1.0\n",
      "Naive Bayes Recall: 1.0\n"
     ]
    }
   ],
   "source": [
    "# Naive Bayes Classifier (NBC)\n",
    "nb = GaussianNB()\n",
    "nb.fit(train_features_flat, train_labels)\n",
    "nb_pred = nb.predict(test_features_flat)\n",
    "\n",
    "nb_accuracy = accuracy_score(test_labels, nb_pred)\n",
    "nb_precision = precision_score(test_labels, nb_pred, average='weighted')\n",
    "nb_recall = recall_score(test_labels, nb_pred, average='weighted')\n",
    "\n",
    "print(\"Naive Bayes Accuracy:\", nb_accuracy)\n",
    "print(\"Naive Bayes Precision:\", nb_precision)\n",
    "print(\"Naive Bayes Recall:\", nb_recall)"
   ]
  },
  {
   "cell_type": "markdown",
   "id": "24b3f670",
   "metadata": {
    "papermill": {
     "duration": 0.013632,
     "end_time": "2024-04-21T07:44:51.469350",
     "exception": false,
     "start_time": "2024-04-21T07:44:51.455718",
     "status": "completed"
    },
    "tags": []
   },
   "source": [
    "**Part 3:** Using Scratch CNN as the feature extractor"
   ]
  },
  {
   "cell_type": "code",
   "execution_count": 27,
   "id": "9c51c58f",
   "metadata": {
    "execution": {
     "iopub.execute_input": "2024-04-21T07:44:51.497759Z",
     "iopub.status.busy": "2024-04-21T07:44:51.497455Z",
     "iopub.status.idle": "2024-04-21T07:44:51.507997Z",
     "shell.execute_reply": "2024-04-21T07:44:51.507186Z"
    },
    "papermill": {
     "duration": 0.027071,
     "end_time": "2024-04-21T07:44:51.509812",
     "exception": false,
     "start_time": "2024-04-21T07:44:51.482741",
     "status": "completed"
    },
    "tags": []
   },
   "outputs": [],
   "source": [
    "#CNN Network\n",
    "class ConvNetNN(nn.Module):\n",
    "    def __init__(self,num_classes):\n",
    "        super(ConvNetNN,self).__init__()\n",
    "        \n",
    "        #Layer1\n",
    "        self.conv1=nn.Conv2d(in_channels=3,out_channels=12,kernel_size=3,stride=1,padding=1) #conv2d filter\n",
    "        self.bn1=nn.BatchNorm2d(num_features=12)\n",
    "        self.relu1=nn.ReLU() \n",
    "        \n",
    "        self.pool=nn.MaxPool2d(kernel_size=2)\n",
    "        \n",
    "        #Layer2\n",
    "        self.conv2=nn.Conv2d(in_channels=12,out_channels=20,kernel_size=3,stride=1,padding=1)\n",
    "        self.relu2=nn.ReLU()\n",
    "        \n",
    "        #Layer3\n",
    "        self.conv3=nn.Conv2d(in_channels=20,out_channels=32,kernel_size=3,stride=1,padding=1)\n",
    "        self.bn3=nn.BatchNorm2d(num_features=32)\n",
    "        self.relu3=nn.ReLU()\n",
    "        \n",
    "        #Fully connected layer\n",
    "        self.fc=nn.Linear(in_features=75 * 75 * 32,out_features=num_classes)\n",
    "       \n",
    "    \n",
    "    def forward(self,input):\n",
    "        output=self.conv1(input)\n",
    "        output=self.bn1(output)\n",
    "        output=self.relu1(output)\n",
    "            \n",
    "        output=self.pool(output)\n",
    "            \n",
    "        output=self.conv2(output)\n",
    "        output=self.relu2(output)\n",
    "            \n",
    "        output=self.conv3(output)\n",
    "        output=self.bn3(output)\n",
    "        output=self.relu3(output)\n",
    "        \n",
    "        output=output.view(-1,32*75*75)\n",
    "                \n",
    "        output=self.fc(output)\n",
    "            \n",
    "        return output"
   ]
  },
  {
   "cell_type": "code",
   "execution_count": 28,
   "id": "1cc8baa1",
   "metadata": {
    "execution": {
     "iopub.execute_input": "2024-04-21T07:44:51.537984Z",
     "iopub.status.busy": "2024-04-21T07:44:51.537734Z",
     "iopub.status.idle": "2024-04-21T07:44:51.541821Z",
     "shell.execute_reply": "2024-04-21T07:44:51.540993Z"
    },
    "papermill": {
     "duration": 0.020505,
     "end_time": "2024-04-21T07:44:51.543729",
     "exception": false,
     "start_time": "2024-04-21T07:44:51.523224",
     "status": "completed"
    },
    "tags": []
   },
   "outputs": [],
   "source": [
    "save_callback = SaveModelCallback(monitor='accuracy', fname='good_model')"
   ]
  },
  {
   "cell_type": "code",
   "execution_count": 29,
   "id": "a02abce6",
   "metadata": {
    "execution": {
     "iopub.execute_input": "2024-04-21T07:44:51.571607Z",
     "iopub.status.busy": "2024-04-21T07:44:51.571341Z",
     "iopub.status.idle": "2024-04-21T07:44:51.581318Z",
     "shell.execute_reply": "2024-04-21T07:44:51.580471Z"
    },
    "papermill": {
     "duration": 0.026073,
     "end_time": "2024-04-21T07:44:51.583229",
     "exception": false,
     "start_time": "2024-04-21T07:44:51.557156",
     "status": "completed"
    },
    "tags": []
   },
   "outputs": [],
   "source": [
    "learner2= Learner(dls = dls, model = ConvNetNN(2), model_dir = \"/kaggle/working/\", metrics = [accuracy, error_rate], cbs=save_callback, loss_func=CrossEntropyLossFlat(), opt_func=Adam)"
   ]
  },
  {
   "cell_type": "code",
   "execution_count": 30,
   "id": "bcd3e978",
   "metadata": {
    "execution": {
     "iopub.execute_input": "2024-04-21T07:44:51.611431Z",
     "iopub.status.busy": "2024-04-21T07:44:51.611134Z",
     "iopub.status.idle": "2024-04-21T08:00:09.454036Z",
     "shell.execute_reply": "2024-04-21T08:00:09.452897Z"
    },
    "papermill": {
     "duration": 917.859544,
     "end_time": "2024-04-21T08:00:09.456329",
     "exception": false,
     "start_time": "2024-04-21T07:44:51.596785",
     "status": "completed"
    },
    "tags": []
   },
   "outputs": [
    {
     "data": {
      "text/html": [
       "\n",
       "<style>\n",
       "    /* Turns off some styling */\n",
       "    progress {\n",
       "        /* gets rid of default border in Firefox and Opera. */\n",
       "        border: none;\n",
       "        /* Needs to be in here for Safari polyfill so background images work as expected. */\n",
       "        background-size: auto;\n",
       "    }\n",
       "    progress:not([value]), progress:not([value])::-webkit-progress-bar {\n",
       "        background: repeating-linear-gradient(45deg, #7e7e7e, #7e7e7e 10px, #5c5c5c 10px, #5c5c5c 20px);\n",
       "    }\n",
       "    .progress-bar-interrupted, .progress-bar-interrupted::-webkit-progress-bar {\n",
       "        background: #F44336;\n",
       "    }\n",
       "</style>\n"
      ],
      "text/plain": [
       "<IPython.core.display.HTML object>"
      ]
     },
     "metadata": {},
     "output_type": "display_data"
    },
    {
     "data": {
      "text/html": [
       "<table border=\"1\" class=\"dataframe\">\n",
       "  <thead>\n",
       "    <tr style=\"text-align: left;\">\n",
       "      <th>epoch</th>\n",
       "      <th>train_loss</th>\n",
       "      <th>valid_loss</th>\n",
       "      <th>accuracy</th>\n",
       "      <th>error_rate</th>\n",
       "      <th>time</th>\n",
       "    </tr>\n",
       "  </thead>\n",
       "  <tbody>\n",
       "    <tr>\n",
       "      <td>0</td>\n",
       "      <td>0.412463</td>\n",
       "      <td>0.462632</td>\n",
       "      <td>0.788584</td>\n",
       "      <td>0.211416</td>\n",
       "      <td>00:18</td>\n",
       "    </tr>\n",
       "    <tr>\n",
       "      <td>1</td>\n",
       "      <td>0.228416</td>\n",
       "      <td>0.240646</td>\n",
       "      <td>0.906448</td>\n",
       "      <td>0.093552</td>\n",
       "      <td>00:18</td>\n",
       "    </tr>\n",
       "    <tr>\n",
       "      <td>2</td>\n",
       "      <td>0.213063</td>\n",
       "      <td>0.234958</td>\n",
       "      <td>0.912791</td>\n",
       "      <td>0.087209</td>\n",
       "      <td>00:18</td>\n",
       "    </tr>\n",
       "    <tr>\n",
       "      <td>3</td>\n",
       "      <td>0.171053</td>\n",
       "      <td>0.282416</td>\n",
       "      <td>0.922833</td>\n",
       "      <td>0.077167</td>\n",
       "      <td>00:18</td>\n",
       "    </tr>\n",
       "    <tr>\n",
       "      <td>4</td>\n",
       "      <td>0.304815</td>\n",
       "      <td>0.617100</td>\n",
       "      <td>0.909619</td>\n",
       "      <td>0.090381</td>\n",
       "      <td>00:18</td>\n",
       "    </tr>\n",
       "    <tr>\n",
       "      <td>5</td>\n",
       "      <td>0.276912</td>\n",
       "      <td>0.451542</td>\n",
       "      <td>0.910677</td>\n",
       "      <td>0.089323</td>\n",
       "      <td>00:18</td>\n",
       "    </tr>\n",
       "    <tr>\n",
       "      <td>6</td>\n",
       "      <td>0.451917</td>\n",
       "      <td>1.381917</td>\n",
       "      <td>0.857294</td>\n",
       "      <td>0.142706</td>\n",
       "      <td>00:18</td>\n",
       "    </tr>\n",
       "    <tr>\n",
       "      <td>7</td>\n",
       "      <td>0.383530</td>\n",
       "      <td>0.826432</td>\n",
       "      <td>0.896934</td>\n",
       "      <td>0.103066</td>\n",
       "      <td>00:18</td>\n",
       "    </tr>\n",
       "    <tr>\n",
       "      <td>8</td>\n",
       "      <td>0.388753</td>\n",
       "      <td>0.720874</td>\n",
       "      <td>0.913848</td>\n",
       "      <td>0.086152</td>\n",
       "      <td>00:18</td>\n",
       "    </tr>\n",
       "    <tr>\n",
       "      <td>9</td>\n",
       "      <td>0.342787</td>\n",
       "      <td>0.741919</td>\n",
       "      <td>0.904863</td>\n",
       "      <td>0.095137</td>\n",
       "      <td>00:18</td>\n",
       "    </tr>\n",
       "    <tr>\n",
       "      <td>10</td>\n",
       "      <td>0.211150</td>\n",
       "      <td>0.581439</td>\n",
       "      <td>0.928647</td>\n",
       "      <td>0.071353</td>\n",
       "      <td>00:18</td>\n",
       "    </tr>\n",
       "    <tr>\n",
       "      <td>11</td>\n",
       "      <td>0.149077</td>\n",
       "      <td>0.433110</td>\n",
       "      <td>0.936575</td>\n",
       "      <td>0.063425</td>\n",
       "      <td>00:18</td>\n",
       "    </tr>\n",
       "    <tr>\n",
       "      <td>12</td>\n",
       "      <td>0.137126</td>\n",
       "      <td>0.806258</td>\n",
       "      <td>0.903277</td>\n",
       "      <td>0.096723</td>\n",
       "      <td>00:18</td>\n",
       "    </tr>\n",
       "    <tr>\n",
       "      <td>13</td>\n",
       "      <td>0.060727</td>\n",
       "      <td>0.285005</td>\n",
       "      <td>0.941860</td>\n",
       "      <td>0.058140</td>\n",
       "      <td>00:18</td>\n",
       "    </tr>\n",
       "    <tr>\n",
       "      <td>14</td>\n",
       "      <td>0.053915</td>\n",
       "      <td>0.349708</td>\n",
       "      <td>0.933932</td>\n",
       "      <td>0.066068</td>\n",
       "      <td>00:18</td>\n",
       "    </tr>\n",
       "    <tr>\n",
       "      <td>15</td>\n",
       "      <td>0.043429</td>\n",
       "      <td>0.303840</td>\n",
       "      <td>0.941860</td>\n",
       "      <td>0.058140</td>\n",
       "      <td>00:18</td>\n",
       "    </tr>\n",
       "    <tr>\n",
       "      <td>16</td>\n",
       "      <td>0.034053</td>\n",
       "      <td>0.500858</td>\n",
       "      <td>0.913848</td>\n",
       "      <td>0.086152</td>\n",
       "      <td>00:18</td>\n",
       "    </tr>\n",
       "    <tr>\n",
       "      <td>17</td>\n",
       "      <td>0.017411</td>\n",
       "      <td>0.322555</td>\n",
       "      <td>0.951374</td>\n",
       "      <td>0.048626</td>\n",
       "      <td>00:18</td>\n",
       "    </tr>\n",
       "    <tr>\n",
       "      <td>18</td>\n",
       "      <td>0.037795</td>\n",
       "      <td>0.248543</td>\n",
       "      <td>0.948203</td>\n",
       "      <td>0.051797</td>\n",
       "      <td>00:18</td>\n",
       "    </tr>\n",
       "    <tr>\n",
       "      <td>19</td>\n",
       "      <td>0.016431</td>\n",
       "      <td>0.360276</td>\n",
       "      <td>0.947674</td>\n",
       "      <td>0.052326</td>\n",
       "      <td>00:18</td>\n",
       "    </tr>\n",
       "    <tr>\n",
       "      <td>20</td>\n",
       "      <td>0.021307</td>\n",
       "      <td>0.295884</td>\n",
       "      <td>0.954017</td>\n",
       "      <td>0.045983</td>\n",
       "      <td>00:18</td>\n",
       "    </tr>\n",
       "    <tr>\n",
       "      <td>21</td>\n",
       "      <td>0.013036</td>\n",
       "      <td>0.437198</td>\n",
       "      <td>0.939746</td>\n",
       "      <td>0.060254</td>\n",
       "      <td>00:18</td>\n",
       "    </tr>\n",
       "    <tr>\n",
       "      <td>22</td>\n",
       "      <td>0.009671</td>\n",
       "      <td>0.374901</td>\n",
       "      <td>0.951374</td>\n",
       "      <td>0.048626</td>\n",
       "      <td>00:18</td>\n",
       "    </tr>\n",
       "    <tr>\n",
       "      <td>23</td>\n",
       "      <td>0.014279</td>\n",
       "      <td>0.395795</td>\n",
       "      <td>0.949789</td>\n",
       "      <td>0.050211</td>\n",
       "      <td>00:18</td>\n",
       "    </tr>\n",
       "    <tr>\n",
       "      <td>24</td>\n",
       "      <td>0.009487</td>\n",
       "      <td>0.488334</td>\n",
       "      <td>0.948203</td>\n",
       "      <td>0.051797</td>\n",
       "      <td>00:18</td>\n",
       "    </tr>\n",
       "    <tr>\n",
       "      <td>25</td>\n",
       "      <td>0.004637</td>\n",
       "      <td>0.415777</td>\n",
       "      <td>0.949789</td>\n",
       "      <td>0.050211</td>\n",
       "      <td>00:18</td>\n",
       "    </tr>\n",
       "    <tr>\n",
       "      <td>26</td>\n",
       "      <td>0.002329</td>\n",
       "      <td>0.350738</td>\n",
       "      <td>0.957717</td>\n",
       "      <td>0.042283</td>\n",
       "      <td>00:18</td>\n",
       "    </tr>\n",
       "    <tr>\n",
       "      <td>27</td>\n",
       "      <td>0.002195</td>\n",
       "      <td>0.420398</td>\n",
       "      <td>0.947674</td>\n",
       "      <td>0.052326</td>\n",
       "      <td>00:18</td>\n",
       "    </tr>\n",
       "    <tr>\n",
       "      <td>28</td>\n",
       "      <td>0.001456</td>\n",
       "      <td>0.431547</td>\n",
       "      <td>0.959302</td>\n",
       "      <td>0.040698</td>\n",
       "      <td>00:18</td>\n",
       "    </tr>\n",
       "    <tr>\n",
       "      <td>29</td>\n",
       "      <td>0.006035</td>\n",
       "      <td>0.466263</td>\n",
       "      <td>0.947674</td>\n",
       "      <td>0.052326</td>\n",
       "      <td>00:18</td>\n",
       "    </tr>\n",
       "    <tr>\n",
       "      <td>30</td>\n",
       "      <td>0.001426</td>\n",
       "      <td>0.489538</td>\n",
       "      <td>0.949789</td>\n",
       "      <td>0.050211</td>\n",
       "      <td>00:18</td>\n",
       "    </tr>\n",
       "    <tr>\n",
       "      <td>31</td>\n",
       "      <td>0.000026</td>\n",
       "      <td>0.443988</td>\n",
       "      <td>0.956660</td>\n",
       "      <td>0.043340</td>\n",
       "      <td>00:18</td>\n",
       "    </tr>\n",
       "    <tr>\n",
       "      <td>32</td>\n",
       "      <td>0.000004</td>\n",
       "      <td>0.441611</td>\n",
       "      <td>0.958245</td>\n",
       "      <td>0.041755</td>\n",
       "      <td>00:17</td>\n",
       "    </tr>\n",
       "    <tr>\n",
       "      <td>33</td>\n",
       "      <td>0.000002</td>\n",
       "      <td>0.446934</td>\n",
       "      <td>0.958774</td>\n",
       "      <td>0.041226</td>\n",
       "      <td>00:18</td>\n",
       "    </tr>\n",
       "    <tr>\n",
       "      <td>34</td>\n",
       "      <td>0.000001</td>\n",
       "      <td>0.464805</td>\n",
       "      <td>0.959302</td>\n",
       "      <td>0.040698</td>\n",
       "      <td>00:18</td>\n",
       "    </tr>\n",
       "    <tr>\n",
       "      <td>35</td>\n",
       "      <td>0.000000</td>\n",
       "      <td>0.475897</td>\n",
       "      <td>0.959302</td>\n",
       "      <td>0.040698</td>\n",
       "      <td>00:18</td>\n",
       "    </tr>\n",
       "    <tr>\n",
       "      <td>36</td>\n",
       "      <td>0.000000</td>\n",
       "      <td>0.507022</td>\n",
       "      <td>0.960359</td>\n",
       "      <td>0.039641</td>\n",
       "      <td>00:18</td>\n",
       "    </tr>\n",
       "    <tr>\n",
       "      <td>37</td>\n",
       "      <td>0.000000</td>\n",
       "      <td>0.515194</td>\n",
       "      <td>0.961416</td>\n",
       "      <td>0.038584</td>\n",
       "      <td>00:18</td>\n",
       "    </tr>\n",
       "    <tr>\n",
       "      <td>38</td>\n",
       "      <td>0.000000</td>\n",
       "      <td>0.518662</td>\n",
       "      <td>0.959302</td>\n",
       "      <td>0.040698</td>\n",
       "      <td>00:18</td>\n",
       "    </tr>\n",
       "    <tr>\n",
       "      <td>39</td>\n",
       "      <td>0.000000</td>\n",
       "      <td>0.516786</td>\n",
       "      <td>0.961416</td>\n",
       "      <td>0.038584</td>\n",
       "      <td>00:17</td>\n",
       "    </tr>\n",
       "    <tr>\n",
       "      <td>40</td>\n",
       "      <td>0.000000</td>\n",
       "      <td>0.528351</td>\n",
       "      <td>0.960888</td>\n",
       "      <td>0.039112</td>\n",
       "      <td>00:18</td>\n",
       "    </tr>\n",
       "    <tr>\n",
       "      <td>41</td>\n",
       "      <td>0.000000</td>\n",
       "      <td>0.533875</td>\n",
       "      <td>0.960888</td>\n",
       "      <td>0.039112</td>\n",
       "      <td>00:18</td>\n",
       "    </tr>\n",
       "    <tr>\n",
       "      <td>42</td>\n",
       "      <td>0.000000</td>\n",
       "      <td>0.524465</td>\n",
       "      <td>0.961416</td>\n",
       "      <td>0.038584</td>\n",
       "      <td>00:18</td>\n",
       "    </tr>\n",
       "    <tr>\n",
       "      <td>43</td>\n",
       "      <td>0.000000</td>\n",
       "      <td>0.535446</td>\n",
       "      <td>0.961416</td>\n",
       "      <td>0.038584</td>\n",
       "      <td>00:18</td>\n",
       "    </tr>\n",
       "    <tr>\n",
       "      <td>44</td>\n",
       "      <td>0.000000</td>\n",
       "      <td>0.535151</td>\n",
       "      <td>0.960888</td>\n",
       "      <td>0.039112</td>\n",
       "      <td>00:17</td>\n",
       "    </tr>\n",
       "    <tr>\n",
       "      <td>45</td>\n",
       "      <td>0.000000</td>\n",
       "      <td>0.545385</td>\n",
       "      <td>0.961416</td>\n",
       "      <td>0.038584</td>\n",
       "      <td>00:18</td>\n",
       "    </tr>\n",
       "    <tr>\n",
       "      <td>46</td>\n",
       "      <td>0.000000</td>\n",
       "      <td>0.529132</td>\n",
       "      <td>0.961945</td>\n",
       "      <td>0.038055</td>\n",
       "      <td>00:17</td>\n",
       "    </tr>\n",
       "    <tr>\n",
       "      <td>47</td>\n",
       "      <td>0.000000</td>\n",
       "      <td>0.541604</td>\n",
       "      <td>0.960888</td>\n",
       "      <td>0.039112</td>\n",
       "      <td>00:18</td>\n",
       "    </tr>\n",
       "    <tr>\n",
       "      <td>48</td>\n",
       "      <td>0.000000</td>\n",
       "      <td>0.541190</td>\n",
       "      <td>0.960888</td>\n",
       "      <td>0.039112</td>\n",
       "      <td>00:17</td>\n",
       "    </tr>\n",
       "    <tr>\n",
       "      <td>49</td>\n",
       "      <td>0.000000</td>\n",
       "      <td>0.540226</td>\n",
       "      <td>0.961416</td>\n",
       "      <td>0.038584</td>\n",
       "      <td>00:18</td>\n",
       "    </tr>\n",
       "  </tbody>\n",
       "</table>"
      ],
      "text/plain": [
       "<IPython.core.display.HTML object>"
      ]
     },
     "metadata": {},
     "output_type": "display_data"
    },
    {
     "name": "stdout",
     "output_type": "stream",
     "text": [
      "Better model found at epoch 0 with accuracy value: 0.788583517074585.\n",
      "Better model found at epoch 1 with accuracy value: 0.9064481854438782.\n",
      "Better model found at epoch 2 with accuracy value: 0.9127907156944275.\n",
      "Better model found at epoch 3 with accuracy value: 0.9228329658508301.\n",
      "Better model found at epoch 10 with accuracy value: 0.9286469221115112.\n",
      "Better model found at epoch 11 with accuracy value: 0.9365750551223755.\n",
      "Better model found at epoch 13 with accuracy value: 0.9418604373931885.\n",
      "Better model found at epoch 17 with accuracy value: 0.9513742327690125.\n",
      "Better model found at epoch 20 with accuracy value: 0.954016923904419.\n",
      "Better model found at epoch 26 with accuracy value: 0.957716703414917.\n",
      "Better model found at epoch 28 with accuracy value: 0.9593023061752319.\n",
      "Better model found at epoch 36 with accuracy value: 0.9603593945503235.\n",
      "Better model found at epoch 37 with accuracy value: 0.961416482925415.\n",
      "Better model found at epoch 46 with accuracy value: 0.9619450569152832.\n"
     ]
    }
   ],
   "source": [
    "learner2.fit_one_cycle(50, 0.001)"
   ]
  },
  {
   "cell_type": "code",
   "execution_count": 31,
   "id": "8561ee44",
   "metadata": {
    "execution": {
     "iopub.execute_input": "2024-04-21T08:00:09.489891Z",
     "iopub.status.busy": "2024-04-21T08:00:09.489085Z",
     "iopub.status.idle": "2024-04-21T08:00:09.496775Z",
     "shell.execute_reply": "2024-04-21T08:00:09.495888Z"
    },
    "papermill": {
     "duration": 0.026328,
     "end_time": "2024-04-21T08:00:09.498828",
     "exception": false,
     "start_time": "2024-04-21T08:00:09.472500",
     "status": "completed"
    },
    "tags": []
   },
   "outputs": [],
   "source": [
    "filename,gt=[],[]\n",
    "test='/kaggle/input/bone-fracture-detection-using-xrays/archive (6)/val/'\n",
    "k=0\n",
    "for j in ['fractured','not fractured']:\n",
    "    temp=test+j\n",
    "    for i in os.listdir(temp):\n",
    "        temp1 = temp+'/'+i\n",
    "        filename.append(temp1)\n",
    "        gt.append(k)\n",
    "    k = k+1"
   ]
  },
  {
   "cell_type": "code",
   "execution_count": 32,
   "id": "1444e93a",
   "metadata": {
    "execution": {
     "iopub.execute_input": "2024-04-21T08:00:09.530727Z",
     "iopub.status.busy": "2024-04-21T08:00:09.530461Z",
     "iopub.status.idle": "2024-04-21T08:00:11.260042Z",
     "shell.execute_reply": "2024-04-21T08:00:11.258968Z"
    },
    "papermill": {
     "duration": 1.748032,
     "end_time": "2024-04-21T08:00:11.262158",
     "exception": false,
     "start_time": "2024-04-21T08:00:09.514126",
     "status": "completed"
    },
    "tags": []
   },
   "outputs": [
    {
     "data": {
      "text/html": [
       "\n",
       "<style>\n",
       "    /* Turns off some styling */\n",
       "    progress {\n",
       "        /* gets rid of default border in Firefox and Opera. */\n",
       "        border: none;\n",
       "        /* Needs to be in here for Safari polyfill so background images work as expected. */\n",
       "        background-size: auto;\n",
       "    }\n",
       "    progress:not([value]), progress:not([value])::-webkit-progress-bar {\n",
       "        background: repeating-linear-gradient(45deg, #7e7e7e, #7e7e7e 10px, #5c5c5c 10px, #5c5c5c 20px);\n",
       "    }\n",
       "    .progress-bar-interrupted, .progress-bar-interrupted::-webkit-progress-bar {\n",
       "        background: #F44336;\n",
       "    }\n",
       "</style>\n"
      ],
      "text/plain": [
       "<IPython.core.display.HTML object>"
      ]
     },
     "metadata": {},
     "output_type": "display_data"
    },
    {
     "data": {
      "text/html": [],
      "text/plain": [
       "<IPython.core.display.HTML object>"
      ]
     },
     "metadata": {},
     "output_type": "display_data"
    },
    {
     "name": "stdout",
     "output_type": "stream",
     "text": [
      "              precision    recall  f1-score   support\n",
      "\n",
      "           0     1.0000    0.9972    0.9986       360\n",
      "           1     0.9959    1.0000    0.9979       240\n",
      "\n",
      "    accuracy                         0.9983       600\n",
      "   macro avg     0.9979    0.9986    0.9983       600\n",
      "weighted avg     0.9983    0.9983    0.9983       600\n",
      "\n",
      "[[359   1]\n",
      " [  0 240]]\n"
     ]
    }
   ],
   "source": [
    "test_dl = dls.test_dl(filename)\n",
    "preds, y = learner2.get_preds(dl=test_dl)\n",
    "predd = [torch.argmax(preds[i]).item() for i in range(len(preds))]\n",
    "from sklearn.metrics import confusion_matrix,classification_report\n",
    "print(classification_report(gt,predd,digits=4))\n",
    "print(confusion_matrix(gt,predd))"
   ]
  },
  {
   "cell_type": "code",
   "execution_count": 33,
   "id": "db5b8436",
   "metadata": {
    "execution": {
     "iopub.execute_input": "2024-04-21T08:00:11.295829Z",
     "iopub.status.busy": "2024-04-21T08:00:11.295524Z",
     "iopub.status.idle": "2024-04-21T08:00:11.305984Z",
     "shell.execute_reply": "2024-04-21T08:00:11.305309Z"
    },
    "papermill": {
     "duration": 0.029304,
     "end_time": "2024-04-21T08:00:11.307933",
     "exception": false,
     "start_time": "2024-04-21T08:00:11.278629",
     "status": "completed"
    },
    "tags": []
   },
   "outputs": [],
   "source": [
    "state_dict = torch.load('/kaggle/working/good_model.pth', map_location=torch.device('cuda'))\n",
    "state_dict = {k: v for k, v in state_dict.items() if 'fc' not in k}"
   ]
  },
  {
   "cell_type": "code",
   "execution_count": 34,
   "id": "5c9d7140",
   "metadata": {
    "execution": {
     "iopub.execute_input": "2024-04-21T08:00:11.340884Z",
     "iopub.status.busy": "2024-04-21T08:00:11.340619Z",
     "iopub.status.idle": "2024-04-21T08:00:11.350762Z",
     "shell.execute_reply": "2024-04-21T08:00:11.349994Z"
    },
    "papermill": {
     "duration": 0.028983,
     "end_time": "2024-04-21T08:00:11.352613",
     "exception": false,
     "start_time": "2024-04-21T08:00:11.323630",
     "status": "completed"
    },
    "tags": []
   },
   "outputs": [],
   "source": [
    "#CNN Network\n",
    "class ConvNet(nn.Module):\n",
    "    def __init__(self,num_classes):\n",
    "        super(ConvNet,self).__init__()\n",
    "        \n",
    "        #Layer1\n",
    "        self.conv1=nn.Conv2d(in_channels=3,out_channels=12,kernel_size=3,stride=1,padding=1) #conv2d filter\n",
    "        self.bn1=nn.BatchNorm2d(num_features=12)\n",
    "        self.relu1=nn.ReLU() \n",
    "        \n",
    "        self.pool=nn.MaxPool2d(kernel_size=2)\n",
    "        \n",
    "        #Layer2\n",
    "        self.conv2=nn.Conv2d(in_channels=12,out_channels=20,kernel_size=3,stride=1,padding=1)\n",
    "        self.relu2=nn.ReLU()\n",
    "        \n",
    "        #Layer3\n",
    "        self.conv3=nn.Conv2d(in_channels=20,out_channels=32,kernel_size=3,stride=1,padding=1)\n",
    "        self.bn3=nn.BatchNorm2d(num_features=32)\n",
    "        self.relu3=nn.ReLU()\n",
    "        \n",
    "    \n",
    "    def forward(self,input):\n",
    "        output=self.conv1(input)\n",
    "        output=self.bn1(output)\n",
    "        output=self.relu1(output)\n",
    "            \n",
    "        output=self.pool(output)\n",
    "            \n",
    "        output=self.conv2(output)\n",
    "        output=self.relu2(output)\n",
    "            \n",
    "        output=self.conv3(output)\n",
    "        output=self.bn3(output)\n",
    "        output=self.relu3(output)\n",
    "                    \n",
    "        return output"
   ]
  },
  {
   "cell_type": "code",
   "execution_count": 35,
   "id": "151556f4",
   "metadata": {
    "execution": {
     "iopub.execute_input": "2024-04-21T08:00:11.386294Z",
     "iopub.status.busy": "2024-04-21T08:00:11.386021Z",
     "iopub.status.idle": "2024-04-21T08:00:11.390271Z",
     "shell.execute_reply": "2024-04-21T08:00:11.389476Z"
    },
    "papermill": {
     "duration": 0.022573,
     "end_time": "2024-04-21T08:00:11.392091",
     "exception": false,
     "start_time": "2024-04-21T08:00:11.369518",
     "status": "completed"
    },
    "tags": []
   },
   "outputs": [],
   "source": [
    "device = torch.device('cuda' if torch.cuda.is_available() else 'cpu')"
   ]
  },
  {
   "cell_type": "code",
   "execution_count": 36,
   "id": "850a44a3",
   "metadata": {
    "execution": {
     "iopub.execute_input": "2024-04-21T08:00:11.425698Z",
     "iopub.status.busy": "2024-04-21T08:00:11.425432Z",
     "iopub.status.idle": "2024-04-21T08:00:11.432125Z",
     "shell.execute_reply": "2024-04-21T08:00:11.431399Z"
    },
    "papermill": {
     "duration": 0.025444,
     "end_time": "2024-04-21T08:00:11.433872",
     "exception": false,
     "start_time": "2024-04-21T08:00:11.408428",
     "status": "completed"
    },
    "tags": []
   },
   "outputs": [],
   "source": [
    "convnet_features = ConvNet(2).to(device)"
   ]
  },
  {
   "cell_type": "code",
   "execution_count": 37,
   "id": "7c097bdd",
   "metadata": {
    "execution": {
     "iopub.execute_input": "2024-04-21T08:00:11.466640Z",
     "iopub.status.busy": "2024-04-21T08:00:11.466384Z",
     "iopub.status.idle": "2024-04-21T08:00:11.472809Z",
     "shell.execute_reply": "2024-04-21T08:00:11.471942Z"
    },
    "papermill": {
     "duration": 0.025037,
     "end_time": "2024-04-21T08:00:11.474643",
     "exception": false,
     "start_time": "2024-04-21T08:00:11.449606",
     "status": "completed"
    },
    "tags": []
   },
   "outputs": [
    {
     "data": {
      "text/plain": [
       "<All keys matched successfully>"
      ]
     },
     "execution_count": 37,
     "metadata": {},
     "output_type": "execute_result"
    }
   ],
   "source": [
    "convnet_features.load_state_dict(state_dict)"
   ]
  },
  {
   "cell_type": "code",
   "execution_count": 38,
   "id": "e7fada3f",
   "metadata": {
    "execution": {
     "iopub.execute_input": "2024-04-21T08:00:11.510955Z",
     "iopub.status.busy": "2024-04-21T08:00:11.510624Z",
     "iopub.status.idle": "2024-04-21T08:00:11.517454Z",
     "shell.execute_reply": "2024-04-21T08:00:11.516466Z"
    },
    "papermill": {
     "duration": 0.027578,
     "end_time": "2024-04-21T08:00:11.519543",
     "exception": false,
     "start_time": "2024-04-21T08:00:11.491965",
     "status": "completed"
    },
    "tags": []
   },
   "outputs": [],
   "source": [
    "def extracting_features(dl, model):\n",
    "    features_list = []\n",
    "    labels_list = []\n",
    "    for xb, yb in dl:\n",
    "        features = model(xb)\n",
    "        features_list.append(features.cpu().detach().numpy().reshape(features.size(0), -1))\n",
    "        labels_list.append(yb.cpu().detach().numpy())\n",
    "    return np.vstack(features_list), np.concatenate(labels_list)"
   ]
  },
  {
   "cell_type": "code",
   "execution_count": 39,
   "id": "fedb2599",
   "metadata": {
    "execution": {
     "iopub.execute_input": "2024-04-21T08:00:11.554489Z",
     "iopub.status.busy": "2024-04-21T08:00:11.554146Z",
     "iopub.status.idle": "2024-04-21T08:00:34.149461Z",
     "shell.execute_reply": "2024-04-21T08:00:34.148199Z"
    },
    "papermill": {
     "duration": 22.614476,
     "end_time": "2024-04-21T08:00:34.152029",
     "exception": false,
     "start_time": "2024-04-21T08:00:11.537553",
     "status": "completed"
    },
    "tags": []
   },
   "outputs": [],
   "source": [
    "#Extracting features from images in train and test sets\n",
    "train_features, train_labels = extracting_features(dls.train, convnet_features)\n",
    "test_features, test_labels = extracting_features(dls.valid, convnet_features)"
   ]
  },
  {
   "cell_type": "code",
   "execution_count": 40,
   "id": "10a35bae",
   "metadata": {
    "execution": {
     "iopub.execute_input": "2024-04-21T08:00:34.186787Z",
     "iopub.status.busy": "2024-04-21T08:00:34.185816Z",
     "iopub.status.idle": "2024-04-21T08:00:55.904583Z",
     "shell.execute_reply": "2024-04-21T08:00:55.903229Z"
    },
    "papermill": {
     "duration": 21.738868,
     "end_time": "2024-04-21T08:00:55.907138",
     "exception": false,
     "start_time": "2024-04-21T08:00:34.168270",
     "status": "completed"
    },
    "tags": []
   },
   "outputs": [],
   "source": [
    "#Feature scaling (necessary for KNN)\n",
    "scaler = StandardScaler()\n",
    "train_features_scaled_2 = scaler.fit_transform(train_features)\n",
    "test_features_scaled_2 = scaler.transform(test_features)"
   ]
  },
  {
   "cell_type": "code",
   "execution_count": 41,
   "id": "c8bc7f4b",
   "metadata": {
    "execution": {
     "iopub.execute_input": "2024-04-21T08:00:55.947349Z",
     "iopub.status.busy": "2024-04-21T08:00:55.946272Z",
     "iopub.status.idle": "2024-04-21T08:01:56.426330Z",
     "shell.execute_reply": "2024-04-21T08:01:56.425315Z"
    },
    "papermill": {
     "duration": 60.518182,
     "end_time": "2024-04-21T08:01:56.443578",
     "exception": false,
     "start_time": "2024-04-21T08:00:55.925396",
     "status": "completed"
    },
    "tags": []
   },
   "outputs": [
    {
     "name": "stdout",
     "output_type": "stream",
     "text": [
      "KNN Accuracy: 0.7965116279069767\n",
      "KNN Precision: 0.8506977629260825\n",
      "KNN Recall: 0.7965116279069767\n"
     ]
    }
   ],
   "source": [
    "# K-Nearest Neighbors (KNN)\n",
    "knn = KNeighborsClassifier(n_neighbors=5)\n",
    "knn.fit(train_features_scaled_2, train_labels)\n",
    "knn_pred = knn.predict(test_features_scaled_2)\n",
    "\n",
    "knn_accuracy = accuracy_score(test_labels, knn_pred)\n",
    "knn_precision = precision_score(test_labels, knn_pred, average='weighted')\n",
    "knn_recall = recall_score(test_labels, knn_pred, average='weighted')\n",
    "print(\"KNN Accuracy:\", knn_accuracy)\n",
    "print(\"KNN Precision:\", knn_precision)\n",
    "print(\"KNN Recall:\", knn_recall)"
   ]
  },
  {
   "cell_type": "code",
   "execution_count": 42,
   "id": "206552d8",
   "metadata": {
    "execution": {
     "iopub.execute_input": "2024-04-21T08:01:56.476744Z",
     "iopub.status.busy": "2024-04-21T08:01:56.476443Z",
     "iopub.status.idle": "2024-04-21T08:02:12.849324Z",
     "shell.execute_reply": "2024-04-21T08:02:12.848361Z"
    },
    "papermill": {
     "duration": 16.392076,
     "end_time": "2024-04-21T08:02:12.851475",
     "exception": false,
     "start_time": "2024-04-21T08:01:56.459399",
     "status": "completed"
    },
    "tags": []
   },
   "outputs": [
    {
     "name": "stdout",
     "output_type": "stream",
     "text": [
      "Naive Bayes Accuracy: 0.7579281183932347\n",
      "Naive Bayes Precision: 0.7653291425976513\n",
      "Naive Bayes Recall: 0.7579281183932347\n"
     ]
    }
   ],
   "source": [
    "# Naive Bayes Classifier (NBC)\n",
    "nb = GaussianNB()\n",
    "nb.fit(train_features, train_labels)\n",
    "nb_pred = nb.predict(test_features)\n",
    "\n",
    "nb_accuracy = accuracy_score(test_labels, nb_pred)\n",
    "nb_precision = precision_score(test_labels, nb_pred, average='weighted')\n",
    "nb_recall = recall_score(test_labels, nb_pred, average='weighted')\n",
    "\n",
    "print(\"Naive Bayes Accuracy:\", nb_accuracy)\n",
    "print(\"Naive Bayes Precision:\", nb_precision)\n",
    "print(\"Naive Bayes Recall:\", nb_recall)"
   ]
  }
 ],
 "metadata": {
  "kaggle": {
   "accelerator": "gpu",
   "dataSources": [
    {
     "datasetId": 2634341,
     "sourceId": 4507366,
     "sourceType": "datasetVersion"
    }
   ],
   "dockerImageVersionId": 30699,
   "isGpuEnabled": true,
   "isInternetEnabled": true,
   "language": "python",
   "sourceType": "notebook"
  },
  "kernelspec": {
   "display_name": "Python 3",
   "language": "python",
   "name": "python3"
  },
  "language_info": {
   "codemirror_mode": {
    "name": "ipython",
    "version": 3
   },
   "file_extension": ".py",
   "mimetype": "text/x-python",
   "name": "python",
   "nbconvert_exporter": "python",
   "pygments_lexer": "ipython3",
   "version": "3.10.13"
  },
  "papermill": {
   "default_parameters": {},
   "duration": 1538.002228,
   "end_time": "2024-04-21T08:02:16.486577",
   "environment_variables": {},
   "exception": null,
   "input_path": "__notebook__.ipynb",
   "output_path": "__notebook__.ipynb",
   "parameters": {},
   "start_time": "2024-04-21T07:36:38.484349",
   "version": "2.5.0"
  },
  "widgets": {
   "application/vnd.jupyter.widget-state+json": {
    "state": {
     "0d4475e8b21645d7a0d8ff41cf06c7d5": {
      "model_module": "@jupyter-widgets/base",
      "model_module_version": "1.2.0",
      "model_name": "LayoutModel",
      "state": {
       "_model_module": "@jupyter-widgets/base",
       "_model_module_version": "1.2.0",
       "_model_name": "LayoutModel",
       "_view_count": null,
       "_view_module": "@jupyter-widgets/base",
       "_view_module_version": "1.2.0",
       "_view_name": "LayoutView",
       "align_content": null,
       "align_items": null,
       "align_self": null,
       "border": null,
       "bottom": null,
       "display": null,
       "flex": null,
       "flex_flow": null,
       "grid_area": null,
       "grid_auto_columns": null,
       "grid_auto_flow": null,
       "grid_auto_rows": null,
       "grid_column": null,
       "grid_gap": null,
       "grid_row": null,
       "grid_template_areas": null,
       "grid_template_columns": null,
       "grid_template_rows": null,
       "height": null,
       "justify_content": null,
       "justify_items": null,
       "left": null,
       "margin": null,
       "max_height": null,
       "max_width": null,
       "min_height": null,
       "min_width": null,
       "object_fit": null,
       "object_position": null,
       "order": null,
       "overflow": null,
       "overflow_x": null,
       "overflow_y": null,
       "padding": null,
       "right": null,
       "top": null,
       "visibility": null,
       "width": null
      }
     },
     "0e162e8f2ff14747bbf9b40ab00e9298": {
      "model_module": "@jupyter-widgets/controls",
      "model_module_version": "1.5.0",
      "model_name": "HBoxModel",
      "state": {
       "_dom_classes": [],
       "_model_module": "@jupyter-widgets/controls",
       "_model_module_version": "1.5.0",
       "_model_name": "HBoxModel",
       "_view_count": null,
       "_view_module": "@jupyter-widgets/controls",
       "_view_module_version": "1.5.0",
       "_view_name": "HBoxView",
       "box_style": "",
       "children": [
        "IPY_MODEL_4c8f2a68d08f46c59ed4604644456d28",
        "IPY_MODEL_de521d64f0914365b6cc2cbe21e012b8",
        "IPY_MODEL_341e25cc041e44fdb1bb64daf8c4e77a"
       ],
       "layout": "IPY_MODEL_f4b0fd9a08444eebacb2e323f05a7927"
      }
     },
     "1479460be0bd44a7ad2f7cf3bf34f659": {
      "model_module": "@jupyter-widgets/controls",
      "model_module_version": "1.5.0",
      "model_name": "ProgressStyleModel",
      "state": {
       "_model_module": "@jupyter-widgets/controls",
       "_model_module_version": "1.5.0",
       "_model_name": "ProgressStyleModel",
       "_view_count": null,
       "_view_module": "@jupyter-widgets/base",
       "_view_module_version": "1.2.0",
       "_view_name": "StyleView",
       "bar_color": null,
       "description_width": ""
      }
     },
     "341e25cc041e44fdb1bb64daf8c4e77a": {
      "model_module": "@jupyter-widgets/controls",
      "model_module_version": "1.5.0",
      "model_name": "HTMLModel",
      "state": {
       "_dom_classes": [],
       "_model_module": "@jupyter-widgets/controls",
       "_model_module_version": "1.5.0",
       "_model_name": "HTMLModel",
       "_view_count": null,
       "_view_module": "@jupyter-widgets/controls",
       "_view_module_version": "1.5.0",
       "_view_name": "HTMLView",
       "description": "",
       "description_tooltip": null,
       "layout": "IPY_MODEL_fde9e778b154410ca24439cd3428bfd2",
       "placeholder": "​",
       "style": "IPY_MODEL_4f9401b9a8db4725b61b64dde546212c",
       "value": " 102M/102M [00:00&lt;00:00, 170MB/s]"
      }
     },
     "4c8f2a68d08f46c59ed4604644456d28": {
      "model_module": "@jupyter-widgets/controls",
      "model_module_version": "1.5.0",
      "model_name": "HTMLModel",
      "state": {
       "_dom_classes": [],
       "_model_module": "@jupyter-widgets/controls",
       "_model_module_version": "1.5.0",
       "_model_name": "HTMLModel",
       "_view_count": null,
       "_view_module": "@jupyter-widgets/controls",
       "_view_module_version": "1.5.0",
       "_view_name": "HTMLView",
       "description": "",
       "description_tooltip": null,
       "layout": "IPY_MODEL_0d4475e8b21645d7a0d8ff41cf06c7d5",
       "placeholder": "​",
       "style": "IPY_MODEL_64f71468410e4c598f78f84262f04cf9",
       "value": "model.safetensors: 100%"
      }
     },
     "4f9401b9a8db4725b61b64dde546212c": {
      "model_module": "@jupyter-widgets/controls",
      "model_module_version": "1.5.0",
      "model_name": "DescriptionStyleModel",
      "state": {
       "_model_module": "@jupyter-widgets/controls",
       "_model_module_version": "1.5.0",
       "_model_name": "DescriptionStyleModel",
       "_view_count": null,
       "_view_module": "@jupyter-widgets/base",
       "_view_module_version": "1.2.0",
       "_view_name": "StyleView",
       "description_width": ""
      }
     },
     "64f71468410e4c598f78f84262f04cf9": {
      "model_module": "@jupyter-widgets/controls",
      "model_module_version": "1.5.0",
      "model_name": "DescriptionStyleModel",
      "state": {
       "_model_module": "@jupyter-widgets/controls",
       "_model_module_version": "1.5.0",
       "_model_name": "DescriptionStyleModel",
       "_view_count": null,
       "_view_module": "@jupyter-widgets/base",
       "_view_module_version": "1.2.0",
       "_view_name": "StyleView",
       "description_width": ""
      }
     },
     "b1518d6dc948454693ac80fb64d1f606": {
      "model_module": "@jupyter-widgets/base",
      "model_module_version": "1.2.0",
      "model_name": "LayoutModel",
      "state": {
       "_model_module": "@jupyter-widgets/base",
       "_model_module_version": "1.2.0",
       "_model_name": "LayoutModel",
       "_view_count": null,
       "_view_module": "@jupyter-widgets/base",
       "_view_module_version": "1.2.0",
       "_view_name": "LayoutView",
       "align_content": null,
       "align_items": null,
       "align_self": null,
       "border": null,
       "bottom": null,
       "display": null,
       "flex": null,
       "flex_flow": null,
       "grid_area": null,
       "grid_auto_columns": null,
       "grid_auto_flow": null,
       "grid_auto_rows": null,
       "grid_column": null,
       "grid_gap": null,
       "grid_row": null,
       "grid_template_areas": null,
       "grid_template_columns": null,
       "grid_template_rows": null,
       "height": null,
       "justify_content": null,
       "justify_items": null,
       "left": null,
       "margin": null,
       "max_height": null,
       "max_width": null,
       "min_height": null,
       "min_width": null,
       "object_fit": null,
       "object_position": null,
       "order": null,
       "overflow": null,
       "overflow_x": null,
       "overflow_y": null,
       "padding": null,
       "right": null,
       "top": null,
       "visibility": null,
       "width": null
      }
     },
     "de521d64f0914365b6cc2cbe21e012b8": {
      "model_module": "@jupyter-widgets/controls",
      "model_module_version": "1.5.0",
      "model_name": "FloatProgressModel",
      "state": {
       "_dom_classes": [],
       "_model_module": "@jupyter-widgets/controls",
       "_model_module_version": "1.5.0",
       "_model_name": "FloatProgressModel",
       "_view_count": null,
       "_view_module": "@jupyter-widgets/controls",
       "_view_module_version": "1.5.0",
       "_view_name": "ProgressView",
       "bar_style": "success",
       "description": "",
       "description_tooltip": null,
       "layout": "IPY_MODEL_b1518d6dc948454693ac80fb64d1f606",
       "max": 102469840.0,
       "min": 0.0,
       "orientation": "horizontal",
       "style": "IPY_MODEL_1479460be0bd44a7ad2f7cf3bf34f659",
       "value": 102469840.0
      }
     },
     "f4b0fd9a08444eebacb2e323f05a7927": {
      "model_module": "@jupyter-widgets/base",
      "model_module_version": "1.2.0",
      "model_name": "LayoutModel",
      "state": {
       "_model_module": "@jupyter-widgets/base",
       "_model_module_version": "1.2.0",
       "_model_name": "LayoutModel",
       "_view_count": null,
       "_view_module": "@jupyter-widgets/base",
       "_view_module_version": "1.2.0",
       "_view_name": "LayoutView",
       "align_content": null,
       "align_items": null,
       "align_self": null,
       "border": null,
       "bottom": null,
       "display": null,
       "flex": null,
       "flex_flow": null,
       "grid_area": null,
       "grid_auto_columns": null,
       "grid_auto_flow": null,
       "grid_auto_rows": null,
       "grid_column": null,
       "grid_gap": null,
       "grid_row": null,
       "grid_template_areas": null,
       "grid_template_columns": null,
       "grid_template_rows": null,
       "height": null,
       "justify_content": null,
       "justify_items": null,
       "left": null,
       "margin": null,
       "max_height": null,
       "max_width": null,
       "min_height": null,
       "min_width": null,
       "object_fit": null,
       "object_position": null,
       "order": null,
       "overflow": null,
       "overflow_x": null,
       "overflow_y": null,
       "padding": null,
       "right": null,
       "top": null,
       "visibility": null,
       "width": null
      }
     },
     "fde9e778b154410ca24439cd3428bfd2": {
      "model_module": "@jupyter-widgets/base",
      "model_module_version": "1.2.0",
      "model_name": "LayoutModel",
      "state": {
       "_model_module": "@jupyter-widgets/base",
       "_model_module_version": "1.2.0",
       "_model_name": "LayoutModel",
       "_view_count": null,
       "_view_module": "@jupyter-widgets/base",
       "_view_module_version": "1.2.0",
       "_view_name": "LayoutView",
       "align_content": null,
       "align_items": null,
       "align_self": null,
       "border": null,
       "bottom": null,
       "display": null,
       "flex": null,
       "flex_flow": null,
       "grid_area": null,
       "grid_auto_columns": null,
       "grid_auto_flow": null,
       "grid_auto_rows": null,
       "grid_column": null,
       "grid_gap": null,
       "grid_row": null,
       "grid_template_areas": null,
       "grid_template_columns": null,
       "grid_template_rows": null,
       "height": null,
       "justify_content": null,
       "justify_items": null,
       "left": null,
       "margin": null,
       "max_height": null,
       "max_width": null,
       "min_height": null,
       "min_width": null,
       "object_fit": null,
       "object_position": null,
       "order": null,
       "overflow": null,
       "overflow_x": null,
       "overflow_y": null,
       "padding": null,
       "right": null,
       "top": null,
       "visibility": null,
       "width": null
      }
     }
    },
    "version_major": 2,
    "version_minor": 0
   }
  }
 },
 "nbformat": 4,
 "nbformat_minor": 5
}
